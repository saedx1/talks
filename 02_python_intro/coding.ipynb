{
 "cells": [
  {
   "cell_type": "markdown",
   "id": "6f21c17c",
   "metadata": {},
   "source": [
    "<a rel=\"license\" href=\"http://creativecommons.org/licenses/by/4.0/\"><img alt=\"Creative Commons License\" style=\"border-width:0\" src=\"https://i.creativecommons.org/l/by/4.0/80x15.png\" /></a><br />This work is licensed under a <a rel=\"license\" href=\"http://creativecommons.org/licenses/by/4.0/\">Creative Commons Attribution 4.0 International License</a>."
   ]
  },
  {
   "cell_type": "markdown",
   "id": "0a0cdab5",
   "metadata": {
    "slideshow": {
     "slide_type": "-"
    }
   },
   "source": [
    "# Introduction to Python"
   ]
  },
  {
   "cell_type": "markdown",
   "id": "bf05e545",
   "metadata": {},
   "source": [
    "## 0. Print\n",
    "\n",
    "- Allows you to print anything\n",
    "- Helps you understand what's happening in your code (also known as \"debugging\")"
   ]
  },
  {
   "cell_type": "code",
   "execution_count": 110,
   "id": "9e19674b",
   "metadata": {},
   "outputs": [
    {
     "name": "stdout",
     "output_type": "stream",
     "text": [
      "10\n",
      "saed\n",
      "-10.5\n"
     ]
    }
   ],
   "source": [
    "print(10)\n",
    "print(\"saed\")\n",
    "print(-10.5)"
   ]
  },
  {
   "cell_type": "markdown",
   "id": "d6fa3603",
   "metadata": {},
   "source": [
    "## 0.0 Comments\n",
    "Anything you write is a code except if it has a `#` before it"
   ]
  },
  {
   "cell_type": "code",
   "execution_count": 169,
   "id": "125bf6b4",
   "metadata": {},
   "outputs": [
    {
     "name": "stdout",
     "output_type": "stream",
     "text": [
      "10\n"
     ]
    }
   ],
   "source": [
    "print(10) # this prints the number 10"
   ]
  },
  {
   "cell_type": "markdown",
   "id": "f0e009fe",
   "metadata": {},
   "source": [
    "## 1. Variable (object) Initialization"
   ]
  },
  {
   "cell_type": "markdown",
   "id": "269af69c",
   "metadata": {},
   "source": [
    "Everything in Python is an object. You can define an object (variable) by giving it a name (e.g. `x`), an equal sign `=`, then giving it a value (e.g. `10` or `\"GDSC\"`)"
   ]
  },
  {
   "cell_type": "code",
   "execution_count": 71,
   "id": "7b3d0a77",
   "metadata": {},
   "outputs": [
    {
     "name": "stdout",
     "output_type": "stream",
     "text": [
      "10\n",
      "saed\n",
      "10.5\n"
     ]
    }
   ],
   "source": [
    "x = 10\n",
    "print(x)\n",
    "\n",
    "x = \"saed\"\n",
    "print(x)\n",
    "\n",
    "x = 10.5\n",
    "print(x)"
   ]
  },
  {
   "cell_type": "markdown",
   "id": "135ee75c",
   "metadata": {},
   "source": [
    "### 1.1. Numerical Types"
   ]
  },
  {
   "cell_type": "markdown",
   "id": "ee2d22cc",
   "metadata": {},
   "source": [
    "- Integers (e.g. `1`, `2`, `-10`, `50`, `5`)"
   ]
  },
  {
   "cell_type": "code",
   "execution_count": 1,
   "id": "075c06d4",
   "metadata": {},
   "outputs": [
    {
     "name": "stdout",
     "output_type": "stream",
     "text": [
      "10\n"
     ]
    }
   ],
   "source": [
    "x = 10\n",
    "print(x)"
   ]
  },
  {
   "cell_type": "markdown",
   "id": "0346ac35",
   "metadata": {},
   "source": [
    "You can underscores `_` for readability"
   ]
  },
  {
   "cell_type": "code",
   "execution_count": 70,
   "id": "003dab01",
   "metadata": {},
   "outputs": [
    {
     "name": "stdout",
     "output_type": "stream",
     "text": [
      "1000000\n"
     ]
    }
   ],
   "source": [
    "x = 1_000_000  # same as x = 1000000\n",
    "print(x)"
   ]
  },
  {
   "cell_type": "markdown",
   "id": "2c80e5f2",
   "metadata": {},
   "source": [
    "You can **add, subtract, multiple, and divide** them:"
   ]
  },
  {
   "cell_type": "code",
   "execution_count": 3,
   "id": "d5dee7a1",
   "metadata": {},
   "outputs": [
    {
     "name": "stdout",
     "output_type": "stream",
     "text": [
      "45\n",
      "5\n",
      "500\n",
      "1.25\n",
      "5\n"
     ]
    }
   ],
   "source": [
    "x = 25\n",
    "y = 20\n",
    "print(x + y)\n",
    "print(x - y)\n",
    "print(x * y)\n",
    "print(x / y)\n",
    "print(x % y)"
   ]
  },
  {
   "cell_type": "markdown",
   "id": "e0db1957",
   "metadata": {},
   "source": [
    "You can **raise** them to a power:"
   ]
  },
  {
   "cell_type": "code",
   "execution_count": 4,
   "id": "00e749a9",
   "metadata": {},
   "outputs": [
    {
     "name": "stdout",
     "output_type": "stream",
     "text": [
      "8\n"
     ]
    }
   ],
   "source": [
    "x = 2\n",
    "y = 3\n",
    "w = x ** y\n",
    "print(w)"
   ]
  },
  {
   "cell_type": "markdown",
   "id": "d8d778fb",
   "metadata": {},
   "source": [
    "- Floats/Floating-point numbers (e.g. `1.5`, `2.3`, `-0.000001`, `1.3e10`). They represent **Real** numbers."
   ]
  },
  {
   "cell_type": "code",
   "execution_count": 5,
   "id": "e2929195",
   "metadata": {},
   "outputs": [
    {
     "name": "stdout",
     "output_type": "stream",
     "text": [
      "2.5\n"
     ]
    }
   ],
   "source": [
    "y = 2.5\n",
    "print(y)"
   ]
  },
  {
   "cell_type": "code",
   "execution_count": 6,
   "id": "9a3b7d12",
   "metadata": {},
   "outputs": [
    {
     "name": "stdout",
     "output_type": "stream",
     "text": [
      "200000.0\n"
     ]
    }
   ],
   "source": [
    "x = 2e5\n",
    "print(x)"
   ]
  },
  {
   "cell_type": "markdown",
   "id": "e9f34d88",
   "metadata": {},
   "source": [
    "- Complex Numbers (e.g. `1 + 5j`)"
   ]
  },
  {
   "cell_type": "code",
   "execution_count": 7,
   "id": "ffa0d7a9",
   "metadata": {},
   "outputs": [
    {
     "name": "stdout",
     "output_type": "stream",
     "text": [
      "(1+5j)\n"
     ]
    }
   ],
   "source": [
    "z = 1 + 5j\n",
    "print(z)"
   ]
  },
  {
   "cell_type": "markdown",
   "id": "d0086d7d",
   "metadata": {},
   "source": [
    "You can do the same operations on those as well:"
   ]
  },
  {
   "cell_type": "code",
   "execution_count": 8,
   "id": "59f60456",
   "metadata": {},
   "outputs": [
    {
     "name": "stdout",
     "output_type": "stream",
     "text": [
      "6.7\n",
      "0.2999999999999998\n",
      "11.200000000000001\n",
      "1.09375\n",
      "0.2999999999999998\n"
     ]
    }
   ],
   "source": [
    "x = 3.5\n",
    "y = 3.2\n",
    "print(x + y)\n",
    "print(x - y)\n",
    "print(x * y)\n",
    "print(x / y)\n",
    "print(x % y)  # This is weird!"
   ]
  },
  {
   "cell_type": "code",
   "execution_count": 54,
   "id": "4b866b09",
   "metadata": {},
   "outputs": [
    {
     "name": "stdout",
     "output_type": "stream",
     "text": [
      "14\n",
      "20\n"
     ]
    }
   ],
   "source": [
    "x = 2\n",
    "y = 3\n",
    "z = 4\n",
    "\n",
    "print(x + y * z)\n",
    "\n",
    "print((x + y) * z)"
   ]
  },
  {
   "cell_type": "markdown",
   "id": "6f4c530a",
   "metadata": {},
   "source": [
    "#### How do we get the square root of a number?\n",
    "- Square root is power of 1/2\n",
    "- We can raise numbers to powers!"
   ]
  },
  {
   "cell_type": "code",
   "execution_count": 9,
   "id": "707483da",
   "metadata": {},
   "outputs": [
    {
     "name": "stdout",
     "output_type": "stream",
     "text": [
      "3.0\n"
     ]
    }
   ],
   "source": [
    "x = 9\n",
    "print(x ** 0.5)"
   ]
  },
  {
   "cell_type": "markdown",
   "id": "2f2efbf3",
   "metadata": {},
   "source": [
    "#### How about the cubic root?"
   ]
  },
  {
   "cell_type": "code",
   "execution_count": 10,
   "id": "f3defeb4",
   "metadata": {},
   "outputs": [
    {
     "name": "stdout",
     "output_type": "stream",
     "text": [
      "1.9999999986137056\n"
     ]
    }
   ],
   "source": [
    "x = 8\n",
    "print(x ** 0.333333333)"
   ]
  },
  {
   "cell_type": "markdown",
   "id": "8f6e3aec",
   "metadata": {},
   "source": [
    "_But that's obviously wrong!_\n",
    "\n",
    "#### Here's how to do it!"
   ]
  },
  {
   "cell_type": "code",
   "execution_count": 11,
   "id": "928ce6fd",
   "metadata": {},
   "outputs": [
    {
     "name": "stdout",
     "output_type": "stream",
     "text": [
      "2.0\n"
     ]
    }
   ],
   "source": [
    "x = 8\n",
    "print(x ** (1 / 3))"
   ]
  },
  {
   "cell_type": "markdown",
   "id": "954698b7",
   "metadata": {},
   "source": [
    "### 1.2. String Type\n",
    "- Consists of a set of characters/symbols; usually representing text\n",
    "- Can be enclosed in double quotes `\"` or single quotes `'`; double quotes `\"` are preferred almost all the time"
   ]
  },
  {
   "cell_type": "code",
   "execution_count": 12,
   "id": "4eefc03f",
   "metadata": {},
   "outputs": [
    {
     "name": "stdout",
     "output_type": "stream",
     "text": [
      "Introduction to Python\n"
     ]
    }
   ],
   "source": [
    "s = \"Introduction to Python\"  # or s = 'Introduction to Python'\n",
    "print(s)"
   ]
  },
  {
   "cell_type": "code",
   "execution_count": 13,
   "id": "df9b7ef7",
   "metadata": {},
   "outputs": [
    {
     "name": "stdout",
     "output_type": "stream",
     "text": [
      "10\n"
     ]
    }
   ],
   "source": [
    "s = \"10\"\n",
    "print(s)"
   ]
  },
  {
   "cell_type": "code",
   "execution_count": 147,
   "id": "cee9eff0",
   "metadata": {},
   "outputs": [
    {
     "name": "stdout",
     "output_type": "stream",
     "text": [
      "this is a long\n",
      "string on two lines\n"
     ]
    }
   ],
   "source": [
    "s = \"this is a long\\nstring on two lines\" # \\n means a new line\n",
    "print(s)"
   ]
  },
  {
   "cell_type": "code",
   "execution_count": 148,
   "id": "1e4c7d13",
   "metadata": {},
   "outputs": [
    {
     "name": "stdout",
     "output_type": "stream",
     "text": [
      "t\n",
      "is a \n",
      "s\n"
     ]
    }
   ],
   "source": [
    "print(s[0])\n",
    "print(s[5:10])\n",
    "print(s[-1])"
   ]
  },
  {
   "cell_type": "code",
   "execution_count": 150,
   "id": "d06b6e2c",
   "metadata": {},
   "outputs": [
    {
     "name": "stdout",
     "output_type": "stream",
     "text": [
      "my name is saad\n"
     ]
    }
   ],
   "source": [
    "name = \"saad\"\n",
    "statement = \"my name is\"\n",
    "\n",
    "x = statement + \" \" + name\n",
    "\n",
    "print(x)"
   ]
  },
  {
   "cell_type": "code",
   "execution_count": 152,
   "id": "3bbba656",
   "metadata": {},
   "outputs": [
    {
     "data": {
      "text/plain": [
       "'MY NAME IS SAAD'"
      ]
     },
     "execution_count": 152,
     "metadata": {},
     "output_type": "execute_result"
    }
   ],
   "source": [
    "x.upper() # uppercase = capital letters"
   ]
  },
  {
   "cell_type": "code",
   "execution_count": 155,
   "id": "e16219b8",
   "metadata": {},
   "outputs": [
    {
     "name": "stdout",
     "output_type": "stream",
     "text": [
      "Help on built-in function sum in module builtins:\n",
      "\n",
      "sum(iterable, /, start=0)\n",
      "    Return the sum of a 'start' value (default: 0) plus an iterable of numbers\n",
      "    \n",
      "    When the iterable is empty, return the start value.\n",
      "    This function is intended specifically for use with numeric values and may\n",
      "    reject non-numeric types.\n",
      "\n"
     ]
    }
   ],
   "source": [
    "help(sum)"
   ]
  },
  {
   "cell_type": "markdown",
   "id": "f75e8e18",
   "metadata": {},
   "source": [
    "### 1.3. Bool Type\n",
    "- Represents a logical value (e.g. `True`, `False`, `10 == 5`)"
   ]
  },
  {
   "cell_type": "code",
   "execution_count": 56,
   "id": "ed6a7d11",
   "metadata": {},
   "outputs": [
    {
     "name": "stdout",
     "output_type": "stream",
     "text": [
      "True\n",
      "False\n",
      "False\n"
     ]
    }
   ],
   "source": [
    "b = True\n",
    "print(b)\n",
    "\n",
    "b = False\n",
    "print(b)\n",
    "\n",
    "print(b == 10)"
   ]
  },
  {
   "cell_type": "markdown",
   "id": "c4ba2bb2",
   "metadata": {},
   "source": [
    "### 1.4. Sequence Type"
   ]
  },
  {
   "cell_type": "markdown",
   "id": "1d2653af",
   "metadata": {},
   "source": [
    "- Lists: can hold multiple values with different types\n",
    "- In C++, this is closer to an array"
   ]
  },
  {
   "cell_type": "code",
   "execution_count": 133,
   "id": "b050fa0d",
   "metadata": {},
   "outputs": [
    {
     "name": "stdout",
     "output_type": "stream",
     "text": [
      "[91, 85, 75, 55, 'hello', True]\n"
     ]
    }
   ],
   "source": [
    "x = [91, 85, 75, 55, \"hello\", True]\n",
    "print(x)"
   ]
  },
  {
   "cell_type": "markdown",
   "id": "dc21b3ae",
   "metadata": {},
   "source": [
    "You can change an item:"
   ]
  },
  {
   "cell_type": "code",
   "execution_count": 134,
   "id": "05df0db7",
   "metadata": {},
   "outputs": [
    {
     "name": "stdout",
     "output_type": "stream",
     "text": [
      "['my new value!!!!', 85, 75, 55, 'hello', True]\n"
     ]
    }
   ],
   "source": [
    "x[0] = \"my new value!!!!\"  # this is called an item\n",
    "print(x)"
   ]
  },
  {
   "cell_type": "code",
   "execution_count": 135,
   "id": "db4d219d",
   "metadata": {},
   "outputs": [
    {
     "name": "stdout",
     "output_type": "stream",
     "text": [
      "85\n"
     ]
    }
   ],
   "source": [
    "w = x[1]\n",
    "print(w)"
   ]
  },
  {
   "cell_type": "markdown",
   "id": "5c4c52c1",
   "metadata": {},
   "source": [
    "Add a new item?"
   ]
  },
  {
   "cell_type": "code",
   "execution_count": 136,
   "id": "382852ae",
   "metadata": {},
   "outputs": [
    {
     "name": "stdout",
     "output_type": "stream",
     "text": [
      "['my new value!!!!', 85, 75, 55, 'hello', True, 'new item!']\n"
     ]
    }
   ],
   "source": [
    "x.append(\"new item!\")\n",
    "print(x)"
   ]
  },
  {
   "cell_type": "markdown",
   "id": "99a9f0f2",
   "metadata": {},
   "source": [
    "How many items in the list?\n",
    "\n",
    "You can `len(...)` to know that. `len` stands for Length."
   ]
  },
  {
   "cell_type": "code",
   "execution_count": 132,
   "id": "90b2ed78",
   "metadata": {},
   "outputs": [
    {
     "data": {
      "text/plain": [
       "15"
      ]
     },
     "execution_count": 132,
     "metadata": {},
     "output_type": "execute_result"
    }
   ],
   "source": [
    "len(x)"
   ]
  },
  {
   "cell_type": "markdown",
   "id": "daf96de1",
   "metadata": {},
   "source": [
    "- Tuples: same as lists; they just can't be changed"
   ]
  },
  {
   "cell_type": "code",
   "execution_count": 18,
   "id": "bc86226c",
   "metadata": {
    "scrolled": true
   },
   "outputs": [
    {
     "name": "stdout",
     "output_type": "stream",
     "text": [
      "(91, 85, 75, 55, 'hello', True)\n"
     ]
    },
    {
     "ename": "TypeError",
     "evalue": "'tuple' object does not support item assignment",
     "output_type": "error",
     "traceback": [
      "\u001b[0;31m---------------------------------------------------------------------------\u001b[0m",
      "\u001b[0;31mTypeError\u001b[0m                                 Traceback (most recent call last)",
      "\u001b[0;32m/tmp/ipykernel_8191/1343575096.py\u001b[0m in \u001b[0;36m<module>\u001b[0;34m\u001b[0m\n\u001b[1;32m      2\u001b[0m \u001b[0mprint\u001b[0m\u001b[0;34m(\u001b[0m\u001b[0mx\u001b[0m\u001b[0;34m)\u001b[0m\u001b[0;34m\u001b[0m\u001b[0;34m\u001b[0m\u001b[0m\n\u001b[1;32m      3\u001b[0m \u001b[0;34m\u001b[0m\u001b[0m\n\u001b[0;32m----> 4\u001b[0;31m \u001b[0mx\u001b[0m\u001b[0;34m[\u001b[0m\u001b[0;36m0\u001b[0m\u001b[0;34m]\u001b[0m \u001b[0;34m=\u001b[0m \u001b[0;34m\"my new value\"\u001b[0m\u001b[0;34m\u001b[0m\u001b[0;34m\u001b[0m\u001b[0m\n\u001b[0m",
      "\u001b[0;31mTypeError\u001b[0m: 'tuple' object does not support item assignment"
     ]
    }
   ],
   "source": [
    "x = (91, 85, 75, 55, \"hello\", True)\n",
    "print(x)\n",
    "\n",
    "x[0] = \"my new value\""
   ]
  },
  {
   "cell_type": "code",
   "execution_count": 19,
   "id": "ee664e62",
   "metadata": {},
   "outputs": [
    {
     "name": "stdout",
     "output_type": "stream",
     "text": [
      "91\n",
      "85\n"
     ]
    }
   ],
   "source": [
    "print(x[0])\n",
    "print(x[1])"
   ]
  },
  {
   "cell_type": "markdown",
   "id": "67fc4650",
   "metadata": {},
   "source": [
    "_What if I want to do_ `x[\"Mohammad\"]` _instead of_ `x[1]`?"
   ]
  },
  {
   "cell_type": "markdown",
   "id": "72c975e2",
   "metadata": {},
   "source": [
    "### 1.5. Dictionary\n",
    "\n",
    "- A `key`-`value` store\n",
    "- Some languages call it a **map**, some call it a **hash table**\n",
    "- In c++, this is closer to a `map`\n"
   ]
  },
  {
   "cell_type": "markdown",
   "id": "a65d16dd",
   "metadata": {},
   "source": [
    "`\"Saed\"` is a key; `65.5` is its value"
   ]
  },
  {
   "cell_type": "code",
   "execution_count": 36,
   "id": "14ebbb6c",
   "metadata": {},
   "outputs": [
    {
     "name": "stdout",
     "output_type": "stream",
     "text": [
      "{'Saed': 65.5, 'Mohammad': '91', 'Ahmad': 70, 'Anas': '85', 10: True}\n"
     ]
    }
   ],
   "source": [
    "x = {\n",
    "    \"Saed\": 65.5,\n",
    "    \"Mohammad\": \"91\",\n",
    "    \"Ahmad\": 70,\n",
    "    \"Anas\": \"85\",\n",
    "    10: True,\n",
    "}\n",
    "\n",
    "print(x)"
   ]
  },
  {
   "cell_type": "code",
   "execution_count": 37,
   "id": "f8e66515",
   "metadata": {},
   "outputs": [
    {
     "name": "stdout",
     "output_type": "stream",
     "text": [
      "65.5\n"
     ]
    }
   ],
   "source": [
    "print(x[\"Saed\"])"
   ]
  },
  {
   "cell_type": "code",
   "execution_count": 42,
   "id": "350ce8ed",
   "metadata": {},
   "outputs": [
    {
     "name": "stdout",
     "output_type": "stream",
     "text": [
      "{'Saed': 65.5, 'Mohammad': '91', 'Ahmad': 70, 'Anas': '85', 10: True, 'hello': 1564}\n"
     ]
    }
   ],
   "source": [
    "x[\"hello\"] = 1564\n",
    "print(x)"
   ]
  },
  {
   "cell_type": "code",
   "execution_count": 39,
   "id": "a44214a2",
   "metadata": {},
   "outputs": [
    {
     "name": "stdout",
     "output_type": "stream",
     "text": [
      "dict_keys(['Saed', 'Mohammad', 'Ahmad', 'Anas', 10, 'hello'])\n"
     ]
    }
   ],
   "source": [
    "print(x.keys())"
   ]
  },
  {
   "cell_type": "code",
   "execution_count": 40,
   "id": "e7132a92",
   "metadata": {},
   "outputs": [
    {
     "name": "stdout",
     "output_type": "stream",
     "text": [
      "dict_values([65.5, '91', 70, '85', True, 85290178509271])\n"
     ]
    }
   ],
   "source": [
    "print(x.values())"
   ]
  },
  {
   "cell_type": "markdown",
   "id": "62907d61",
   "metadata": {},
   "source": [
    "- Anything can be a value\n",
    "\n",
    "- _Almost_ anything can be a key"
   ]
  },
  {
   "cell_type": "markdown",
   "id": "ac56f48a",
   "metadata": {},
   "source": [
    "## 2. Flow Control"
   ]
  },
  {
   "cell_type": "markdown",
   "id": "659d10d3",
   "metadata": {},
   "source": [
    "### 2.1. If-else if-else\n",
    "\n",
    "You give it a condition; it gets evaluated to a boolean (True or False), based on the result we choose our path"
   ]
  },
  {
   "cell_type": "code",
   "execution_count": 24,
   "id": "b19018cc",
   "metadata": {},
   "outputs": [
    {
     "name": "stdout",
     "output_type": "stream",
     "text": [
      "ONE\n"
     ]
    }
   ],
   "source": [
    "if 10 < 15:\n",
    "    print(\"ONE\")\n",
    "else:\n",
    "    print(\"TWO\")"
   ]
  },
  {
   "cell_type": "code",
   "execution_count": 25,
   "id": "7384d370",
   "metadata": {},
   "outputs": [
    {
     "name": "stdout",
     "output_type": "stream",
     "text": [
      "FOUR\n"
     ]
    }
   ],
   "source": [
    "if 25 > 30:\n",
    "    print(\"THREE\")\n",
    "else:\n",
    "    print(\"FOUR\")"
   ]
  },
  {
   "cell_type": "code",
   "execution_count": 26,
   "id": "7cfec497",
   "metadata": {},
   "outputs": [],
   "source": [
    "if 25 == 30:\n",
    "    print(\"HERE\")\n",
    "elif 25 > 30:\n",
    "    print(\"NOT HERE\")"
   ]
  },
  {
   "cell_type": "code",
   "execution_count": 27,
   "id": "8a414283",
   "metadata": {},
   "outputs": [
    {
     "name": "stdout",
     "output_type": "stream",
     "text": [
      "FIVE\n"
     ]
    }
   ],
   "source": [
    "x = 16\n",
    "\n",
    "if x != 30:\n",
    "    print(\"FIVE\")\n",
    "else:\n",
    "    print(\"SIX\")"
   ]
  },
  {
   "cell_type": "code",
   "execution_count": 28,
   "id": "ee4b1f4e",
   "metadata": {},
   "outputs": [
    {
     "name": "stdout",
     "output_type": "stream",
     "text": [
      "Not A\n"
     ]
    }
   ],
   "source": [
    "x = 81\n",
    "\n",
    "if 100 > x >= 90:\n",
    "    print(\"A\")\n",
    "else:\n",
    "    print(\"Not A\")"
   ]
  },
  {
   "cell_type": "markdown",
   "id": "0c8efb92",
   "metadata": {},
   "source": [
    "You can use `and`, `or`, and `not`.\n",
    "\n",
    "Those are equivelant to `&&`, `||`, `!` in C++."
   ]
  },
  {
   "cell_type": "code",
   "execution_count": null,
   "id": "e40a324b",
   "metadata": {},
   "outputs": [],
   "source": [
    "x = 81\n",
    "\n",
    "if 100 > x and x >= 90:\n",
    "    print(\"A\")\n",
    "else:\n",
    "    print(\"Not A\")"
   ]
  },
  {
   "cell_type": "code",
   "execution_count": 8,
   "id": "ddef162a",
   "metadata": {},
   "outputs": [
    {
     "name": "stdout",
     "output_type": "stream",
     "text": [
      "BYE\n"
     ]
    }
   ],
   "source": [
    "x = 81\n",
    "\n",
    "if x > 100 or x < -100:\n",
    "    print(\"HELLO\")\n",
    "else:\n",
    "    print(\"BYE\")"
   ]
  },
  {
   "cell_type": "markdown",
   "id": "d0058de9",
   "metadata": {},
   "source": [
    "### 2.2. Loops / Repitition\n",
    "\n",
    "Python has two types of loops; `for` and `while` loops"
   ]
  },
  {
   "cell_type": "markdown",
   "id": "fb626dc6",
   "metadata": {},
   "source": [
    "You can loop over a list!"
   ]
  },
  {
   "cell_type": "code",
   "execution_count": 34,
   "id": "5b45cf3a",
   "metadata": {},
   "outputs": [
    {
     "name": "stdout",
     "output_type": "stream",
     "text": [
      "88\n",
      "77\n",
      "79\n",
      "95\n",
      "90\n"
     ]
    }
   ],
   "source": [
    "grades = [88, 77, 79, 95, 90]\n",
    "\n",
    "for i in grades:\n",
    "    print(i)"
   ]
  },
  {
   "cell_type": "markdown",
   "id": "154731c6",
   "metadata": {},
   "source": [
    "You can loop over a dictionary"
   ]
  },
  {
   "cell_type": "code",
   "execution_count": 30,
   "id": "f3ffadfa",
   "metadata": {},
   "outputs": [
    {
     "name": "stdout",
     "output_type": "stream",
     "text": [
      "Saed\n",
      "Mohammad\n",
      "Ahmad\n",
      "Anas\n"
     ]
    }
   ],
   "source": [
    "grades = {\n",
    "    \"Saed\": 65.5,\n",
    "    \"Mohammad\": 91,\n",
    "    \"Ahmad\": 70,\n",
    "    \"Anas\": 85,\n",
    "}\n",
    "\n",
    "for i in grades:\n",
    "    print(i)"
   ]
  },
  {
   "cell_type": "code",
   "execution_count": 31,
   "id": "b6917760",
   "metadata": {},
   "outputs": [
    {
     "name": "stdout",
     "output_type": "stream",
     "text": [
      "Saed 65.5\n",
      "Mohammad 91\n",
      "Ahmad 70\n",
      "Anas 85\n"
     ]
    }
   ],
   "source": [
    "for i in grades:\n",
    "    print(i, grades[i])"
   ]
  },
  {
   "cell_type": "markdown",
   "id": "1ec627b2",
   "metadata": {},
   "source": [
    "#### I just want to loop for 10 times!"
   ]
  },
  {
   "cell_type": "code",
   "execution_count": 176,
   "id": "262a95a1",
   "metadata": {},
   "outputs": [
    {
     "name": "stdout",
     "output_type": "stream",
     "text": [
      "added 0 to the list\n",
      "added 1 to the list\n",
      "added 2 to the list\n",
      "added 3 to the list\n",
      "added 4 to the list\n",
      "added 6 to the list\n",
      "added 7 to the list\n",
      "added 8 to the list\n",
      "added 9 to the list\n",
      "[0, 1, 2, 3, 4, 6, 7, 8, 9]\n"
     ]
    }
   ],
   "source": [
    "k = 10\n",
    "mylist = []\n",
    "\n",
    "for i in range(k):\n",
    "    if i == 5:\n",
    "        continue\n",
    "    mylist.append(i)\n",
    "    print(\"added\", i, \"to the list\")\n",
    "\n",
    "print(mylist)"
   ]
  },
  {
   "cell_type": "markdown",
   "id": "84d7a4e5",
   "metadata": {},
   "source": [
    "#### Or you can use a while loop for that"
   ]
  },
  {
   "cell_type": "code",
   "execution_count": 33,
   "id": "72432200",
   "metadata": {},
   "outputs": [
    {
     "name": "stdout",
     "output_type": "stream",
     "text": [
      "0\n",
      "1\n",
      "2\n",
      "3\n",
      "4\n",
      "5\n",
      "6\n",
      "7\n",
      "8\n",
      "9\n"
     ]
    }
   ],
   "source": [
    "k = 10\n",
    "i = 0\n",
    "\n",
    "while i < k:\n",
    "    print(i)\n",
    "    i = i + 1"
   ]
  },
  {
   "cell_type": "markdown",
   "id": "1e49c276",
   "metadata": {},
   "source": [
    "Another way of doing it is:"
   ]
  },
  {
   "cell_type": "code",
   "execution_count": 178,
   "id": "d1519315",
   "metadata": {},
   "outputs": [
    {
     "name": "stdout",
     "output_type": "stream",
     "text": [
      "0\n",
      "1\n",
      "2\n",
      "3\n",
      "4\n",
      "5\n",
      "6\n",
      "7\n",
      "8\n",
      "9\n"
     ]
    }
   ],
   "source": [
    "k = 10\n",
    "i = 0\n",
    "\n",
    "while True:\n",
    "    print(i)\n",
    "    i = i + 1\n",
    "    if i >= k:\n",
    "        break"
   ]
  },
  {
   "cell_type": "markdown",
   "id": "beae0335",
   "metadata": {},
   "source": [
    "## 3. Reading user input"
   ]
  },
  {
   "cell_type": "code",
   "execution_count": 47,
   "id": "7aaa6d5e",
   "metadata": {},
   "outputs": [
    {
     "name": "stdout",
     "output_type": "stream",
     "text": [
      "Enter a number: 22\n",
      "The user entered 22\n"
     ]
    }
   ],
   "source": [
    "a = input(\"Enter a number: \")\n",
    "print(\"The user entered\", a)"
   ]
  },
  {
   "cell_type": "markdown",
   "id": "1fbd3694",
   "metadata": {},
   "source": [
    "Let's add `10` to it!"
   ]
  },
  {
   "cell_type": "code",
   "execution_count": 57,
   "id": "08bac11d",
   "metadata": {},
   "outputs": [
    {
     "ename": "TypeError",
     "evalue": "can only concatenate str (not \"int\") to str",
     "output_type": "error",
     "traceback": [
      "\u001b[0;31m---------------------------------------------------------------------------\u001b[0m",
      "\u001b[0;31mTypeError\u001b[0m                                 Traceback (most recent call last)",
      "\u001b[0;32m/tmp/ipykernel_8191/4096688.py\u001b[0m in \u001b[0;36m<module>\u001b[0;34m\u001b[0m\n\u001b[0;32m----> 1\u001b[0;31m \u001b[0ma\u001b[0m \u001b[0;34m+\u001b[0m \u001b[0;36m10\u001b[0m\u001b[0;34m\u001b[0m\u001b[0;34m\u001b[0m\u001b[0m\n\u001b[0m",
      "\u001b[0;31mTypeError\u001b[0m: can only concatenate str (not \"int\") to str"
     ]
    }
   ],
   "source": [
    "a + 10"
   ]
  },
  {
   "cell_type": "markdown",
   "id": "0ff1fbe5",
   "metadata": {},
   "source": [
    "#### Everything you read from the user is a string"
   ]
  },
  {
   "cell_type": "code",
   "execution_count": 58,
   "id": "71c7dbbe",
   "metadata": {},
   "outputs": [
    {
     "name": "stdout",
     "output_type": "stream",
     "text": [
      "<class 'str'>\n"
     ]
    }
   ],
   "source": [
    "print(type(a))"
   ]
  },
  {
   "cell_type": "markdown",
   "id": "62e1777d",
   "metadata": {},
   "source": [
    "We should first change it an int"
   ]
  },
  {
   "cell_type": "code",
   "execution_count": 66,
   "id": "6c5d72ac",
   "metadata": {},
   "outputs": [],
   "source": [
    "new_a = int(a)  # you can also try float(a)"
   ]
  },
  {
   "cell_type": "code",
   "execution_count": 67,
   "id": "a6ce0cb9",
   "metadata": {},
   "outputs": [
    {
     "name": "stdout",
     "output_type": "stream",
     "text": [
      "<class 'int'>\n"
     ]
    }
   ],
   "source": [
    "print(type(new_a))"
   ]
  },
  {
   "cell_type": "code",
   "execution_count": 68,
   "id": "47760e0e",
   "metadata": {},
   "outputs": [
    {
     "name": "stdout",
     "output_type": "stream",
     "text": [
      "20\n"
     ]
    }
   ],
   "source": [
    "print(new_a + 10)"
   ]
  },
  {
   "cell_type": "markdown",
   "id": "4102db14",
   "metadata": {},
   "source": [
    "## 4. Functions"
   ]
  },
  {
   "cell_type": "markdown",
   "id": "b23313f9",
   "metadata": {},
   "source": [
    "Let's say we want to get the average grade in an exam!\n",
    "\n",
    "We get the sum, then we divide by the number of students."
   ]
  },
  {
   "cell_type": "code",
   "execution_count": 8,
   "id": "559150b0",
   "metadata": {},
   "outputs": [
    {
     "name": "stdout",
     "output_type": "stream",
     "text": [
      "7.0\n"
     ]
    }
   ],
   "source": [
    "grades = [10, 5, 7, 9, 5, 6]\n",
    "\n",
    "counter = 0\n",
    "total = 0\n",
    "\n",
    "for i in grades:\n",
    "    total = total + i\n",
    "    counter = counter + 1\n",
    "\n",
    "print(total / counter)"
   ]
  },
  {
   "cell_type": "markdown",
   "id": "6f5f5a3d",
   "metadata": {},
   "source": [
    "#### What if we have multiple exams and we don't want to keep repeating the code?"
   ]
  },
  {
   "cell_type": "code",
   "execution_count": 9,
   "id": "172cb0af",
   "metadata": {},
   "outputs": [],
   "source": [
    "def average(grades):\n",
    "    counter = 0\n",
    "    total = 0\n",
    "\n",
    "    for i in grades:\n",
    "        total = total + i\n",
    "        counter = counter + 1\n",
    "\n",
    "    avg = total / counter\n",
    "\n",
    "    return avg"
   ]
  },
  {
   "cell_type": "markdown",
   "id": "9e0c7e06",
   "metadata": {},
   "source": [
    "and then we just call it!"
   ]
  },
  {
   "cell_type": "code",
   "execution_count": 10,
   "id": "d38e3f30",
   "metadata": {},
   "outputs": [
    {
     "name": "stdout",
     "output_type": "stream",
     "text": [
      "7.0\n"
     ]
    }
   ],
   "source": [
    "grades = [10, 5, 7, 9, 5, 6]\n",
    "avg = average(grades)\n",
    "print(avg)"
   ]
  },
  {
   "cell_type": "code",
   "execution_count": 11,
   "id": "f7fbb971",
   "metadata": {},
   "outputs": [
    {
     "name": "stdout",
     "output_type": "stream",
     "text": [
      "6.318181818181818\n"
     ]
    }
   ],
   "source": [
    "grades = [10, 5, 10, 3, 5, 3, 6.5, 7, 9, 5, 6]\n",
    "avg = average(grades)\n",
    "print(avg)"
   ]
  },
  {
   "cell_type": "markdown",
   "id": "a0ff1331",
   "metadata": {},
   "source": [
    "A function can return a value (like `avg`) but it doesn't have to"
   ]
  },
  {
   "cell_type": "code",
   "execution_count": 12,
   "id": "d0b493fc",
   "metadata": {},
   "outputs": [],
   "source": [
    "def greet(greeting, name):\n",
    "    \"\"\"This function greets\n",
    "    Parameters\n",
    "    ----------\n",
    "    greeting : str\n",
    "        What to greet people with\n",
    "    name : bool, optional\n",
    "        Who to greet\n",
    "    \"\"\"\n",
    "    print(greeting, name)"
   ]
  },
  {
   "cell_type": "code",
   "execution_count": 13,
   "id": "3ffdd5f5",
   "metadata": {},
   "outputs": [
    {
     "name": "stdout",
     "output_type": "stream",
     "text": [
      "hello students\n"
     ]
    }
   ],
   "source": [
    "greet(\"hello\", \"students\")"
   ]
  },
  {
   "cell_type": "code",
   "execution_count": 14,
   "id": "035f82e5",
   "metadata": {
    "scrolled": true
   },
   "outputs": [
    {
     "name": "stdout",
     "output_type": "stream",
     "text": [
      "salam GDSC\n"
     ]
    }
   ],
   "source": [
    "greet(\"salam\", \"GDSC\")"
   ]
  },
  {
   "cell_type": "markdown",
   "id": "e313b4d5",
   "metadata": {},
   "source": [
    "#### Calculus?\n",
    "<i><h4>f(x) = x<sup>2</sup> + 2x - 5</h4></i>"
   ]
  },
  {
   "cell_type": "code",
   "execution_count": 15,
   "id": "944d7cfe",
   "metadata": {},
   "outputs": [],
   "source": [
    "def f(x):\n",
    "    return x ** 2 + 2 * x - 5"
   ]
  },
  {
   "cell_type": "code",
   "execution_count": 16,
   "id": "eadcd361",
   "metadata": {},
   "outputs": [
    {
     "name": "stdout",
     "output_type": "stream",
     "text": [
      "-2\n"
     ]
    }
   ],
   "source": [
    "print(f(1))"
   ]
  },
  {
   "cell_type": "code",
   "execution_count": 107,
   "id": "ebf17fd3",
   "metadata": {},
   "outputs": [
    {
     "name": "stdout",
     "output_type": "stream",
     "text": [
      "-4.79\n"
     ]
    }
   ],
   "source": [
    "print(f(0.1))"
   ]
  },
  {
   "cell_type": "code",
   "execution_count": 108,
   "id": "ef9491e6",
   "metadata": {},
   "outputs": [
    {
     "name": "stdout",
     "output_type": "stream",
     "text": [
      "(-22+30j)\n"
     ]
    }
   ],
   "source": [
    "print(f(2 + 5j))"
   ]
  },
  {
   "cell_type": "markdown",
   "id": "26fbd0b9",
   "metadata": {},
   "source": [
    "## 5. Modules\n",
    "\n",
    "You're not always going to write everything from scratch.\n",
    "\n",
    "Also, python has a lot of open-source libraries that you can just download and use, almost for anything you can think of!"
   ]
  },
  {
   "cell_type": "markdown",
   "id": "493f3f3d",
   "metadata": {},
   "source": [
    "You use `import` to load code from other modules or libraries:\n",
    "\n",
    "```python\n",
    "import functions\n",
    "\n",
    "functions.f(...)\n",
    "```\n",
    "\n",
    "\n",
    "you can use `as` to shortcut/alias the usage:\n",
    "```python\n",
    "import functions as abc\n",
    "\n",
    "abc.f(...)\n",
    "```\n",
    "\n",
    "You only need to do it once in a file or notebook! (unless it's inside a function)"
   ]
  },
  {
   "cell_type": "code",
   "execution_count": 116,
   "id": "f2f131d1",
   "metadata": {},
   "outputs": [
    {
     "name": "stdout",
     "output_type": "stream",
     "text": [
      "-2\n"
     ]
    }
   ],
   "source": [
    "import functions\n",
    "\n",
    "print(functions.f(1))"
   ]
  },
  {
   "cell_type": "code",
   "execution_count": 117,
   "id": "22bfe762",
   "metadata": {},
   "outputs": [
    {
     "name": "stdout",
     "output_type": "stream",
     "text": [
      "-2\n"
     ]
    }
   ],
   "source": [
    "import functions as abc\n",
    "\n",
    "print(abc.f(1))"
   ]
  },
  {
   "cell_type": "markdown",
   "id": "f6d82f87",
   "metadata": {},
   "source": [
    "## Example 1. Average CoViD-19 Cases\n",
    "\n",
    "1. The data exists in a file named `covid.txt`.\n",
    "2. Each line represents a day.\n",
    "3. We want to calculate the average of that.\n",
    "\n",
    "### How to do it?\n",
    "\n",
    "1. **Open** the file.\n",
    "2. **Read** a line.\n",
    "3. **Convert** it to a number (integer or float)\n",
    "4. **Add** it to list\n",
    "5. **Repeat** from `3.` until the file is finished.\n",
    "6. **Calculate** the sum.\n",
    "7. **Divide** by the number of days."
   ]
  },
  {
   "cell_type": "code",
   "execution_count": 163,
   "id": "673ac6bd",
   "metadata": {},
   "outputs": [
    {
     "name": "stdout",
     "output_type": "stream",
     "text": [
      "How many numbers do we have? 100\n",
      "[119, 191, 95, 49, 196, 173, 198, 67, 101, 105, 160, 113, 23, 92, 162, 73, 60, 188, 41, 109, 99, 113, 112, 80, 155, 100, 69, 59, 25, 89, 186, 40, 39, 147, 95, 81, 161, 123, 141, 112, 143, 25, 137, 161, 43, 112, 161, 27, 84, 114, 93, 77, 106, 87, 158, 199, 44, 83, 97, 72, 173, 48, 82, 70, 77, 102, 198, 33, 167, 126, 118, 109, 48, 116, 29, 158, 146, 116, 59, 109, 103, 182, 121, 71, 178, 166, 63, 95, 114, 118, 150, 168, 158, 178, 134, 121, 191, 144, 21, 191]\n"
     ]
    }
   ],
   "source": [
    "file = open(\"covid.txt\", \"r\") # \"r\" means read; \"w\" means write\n",
    "\n",
    "numbers = []\n",
    "\n",
    "for line in file: # this will read a line in every iteration; \"iteration means 1 cycle inside a loop\n",
    "    num = int(line)\n",
    "    numbers.append(num)\n",
    "\n",
    "print(\"How many numbers do we have?\", len(numbers))\n",
    "print(numbers)"
   ]
  },
  {
   "cell_type": "code",
   "execution_count": 129,
   "id": "6a9509d0",
   "metadata": {},
   "outputs": [
    {
     "name": "stdout",
     "output_type": "stream",
     "text": [
      "11115\n",
      "average cases per day: 111.15\n"
     ]
    }
   ],
   "source": [
    "total = sum(numbers)\n",
    "print(total)\n",
    "\n",
    "avg = total/len(numbers)\n",
    "print(\"average cases per day:\", avg)"
   ]
  },
  {
   "cell_type": "code",
   "execution_count": 5,
   "id": "f87842b7",
   "metadata": {},
   "outputs": [],
   "source": [
    "def average(nums):\n",
    "    total = sum(nums)\n",
    "    avg = total/len(nums)\n",
    "    \n",
    "    return avg"
   ]
  },
  {
   "cell_type": "code",
   "execution_count": 173,
   "id": "7e270623",
   "metadata": {},
   "outputs": [
    {
     "data": {
      "text/plain": [
       "191.0"
      ]
     },
     "execution_count": 173,
     "metadata": {},
     "output_type": "execute_result"
    }
   ],
   "source": [
    "average(numbers)"
   ]
  },
  {
   "cell_type": "markdown",
   "id": "5419249b",
   "metadata": {},
   "source": [
    "## Example 2. Average CoViD-19 Cases (file on the internet)\n",
    "\n",
    "What if the file exists on the internet? Can I do the same thing without downloading it manually?"
   ]
  },
  {
   "cell_type": "code",
   "execution_count": 2,
   "id": "e9330fd2",
   "metadata": {
    "scrolled": true
   },
   "outputs": [
    {
     "name": "stdout",
     "output_type": "stream",
     "text": [
      "http code: 200\n",
      "response: 119\n",
      "191\n",
      "95\n",
      "49\n",
      "196\n",
      "173\n",
      "198\n",
      "67\n",
      "101\n",
      "105\n",
      "160\n",
      "113\n",
      "23\n",
      "92\n",
      "162\n",
      "73\n",
      "60\n",
      "188\n",
      "41\n",
      "109\n",
      "99\n",
      "113\n",
      "112\n",
      "80\n",
      "155\n",
      "100\n",
      "69\n",
      "59\n",
      "25\n",
      "89\n",
      "186\n",
      "40\n",
      "39\n",
      "147\n",
      "95\n",
      "81\n",
      "161\n",
      "123\n",
      "141\n",
      "112\n",
      "143\n",
      "25\n",
      "137\n",
      "161\n",
      "43\n",
      "112\n",
      "161\n",
      "27\n",
      "84\n",
      "114\n",
      "93\n",
      "77\n",
      "106\n",
      "87\n",
      "158\n",
      "199\n",
      "44\n",
      "83\n",
      "97\n",
      "72\n",
      "173\n",
      "48\n",
      "82\n",
      "70\n",
      "77\n",
      "102\n",
      "198\n",
      "33\n",
      "167\n",
      "126\n",
      "118\n",
      "109\n",
      "48\n",
      "116\n",
      "29\n",
      "158\n",
      "146\n",
      "116\n",
      "59\n",
      "109\n",
      "103\n",
      "182\n",
      "121\n",
      "71\n",
      "178\n",
      "166\n",
      "63\n",
      "95\n",
      "114\n",
      "118\n",
      "150\n",
      "168\n",
      "158\n",
      "178\n",
      "134\n",
      "121\n",
      "191\n",
      "144\n",
      "21\n",
      "191\n",
      "\n"
     ]
    }
   ],
   "source": [
    "import requests\n",
    "\n",
    "link = \"https://maktabti.xyz/covid.txt\"\n",
    "\n",
    "result = requests.get(link)\n",
    "\n",
    "print(\"http code:\", result.status_code) # 200's are ok, 400's and 500's mean something went wrong\n",
    "\n",
    "content = result.text\n",
    "print(\"response:\", content)"
   ]
  },
  {
   "cell_type": "code",
   "execution_count": 3,
   "id": "696813cf",
   "metadata": {},
   "outputs": [
    {
     "name": "stdout",
     "output_type": "stream",
     "text": [
      "['119', '191', '95', '49', '196', '173', '198', '67', '101', '105', '160', '113', '23', '92', '162', '73', '60', '188', '41', '109', '99', '113', '112', '80', '155', '100', '69', '59', '25', '89', '186', '40', '39', '147', '95', '81', '161', '123', '141', '112', '143', '25', '137', '161', '43', '112', '161', '27', '84', '114', '93', '77', '106', '87', '158', '199', '44', '83', '97', '72', '173', '48', '82', '70', '77', '102', '198', '33', '167', '126', '118', '109', '48', '116', '29', '158', '146', '116', '59', '109', '103', '182', '121', '71', '178', '166', '63', '95', '114', '118', '150', '168', '158', '178', '134', '121', '191', '144', '21', '191', '']\n"
     ]
    }
   ],
   "source": [
    "print(content.split(\"\\n\"))"
   ]
  },
  {
   "cell_type": "code",
   "execution_count": 4,
   "id": "97276e3b",
   "metadata": {},
   "outputs": [
    {
     "ename": "NameError",
     "evalue": "name 'average' is not defined",
     "output_type": "error",
     "traceback": [
      "\u001b[0;31m---------------------------------------------------------------------------\u001b[0m",
      "\u001b[0;31mNameError\u001b[0m                                 Traceback (most recent call last)",
      "\u001b[0;32m/tmp/ipykernel_6807/4010973316.py\u001b[0m in \u001b[0;36m<module>\u001b[0;34m\u001b[0m\n\u001b[1;32m      9\u001b[0m     \u001b[0mnumbers\u001b[0m\u001b[0;34m.\u001b[0m\u001b[0mappend\u001b[0m\u001b[0;34m(\u001b[0m\u001b[0mnum\u001b[0m\u001b[0;34m)\u001b[0m\u001b[0;34m\u001b[0m\u001b[0;34m\u001b[0m\u001b[0m\n\u001b[1;32m     10\u001b[0m \u001b[0;34m\u001b[0m\u001b[0m\n\u001b[0;32m---> 11\u001b[0;31m \u001b[0mprint\u001b[0m\u001b[0;34m(\u001b[0m\u001b[0maverage\u001b[0m\u001b[0;34m(\u001b[0m\u001b[0mnumbers\u001b[0m\u001b[0;34m)\u001b[0m\u001b[0;34m)\u001b[0m\u001b[0;34m\u001b[0m\u001b[0;34m\u001b[0m\u001b[0m\n\u001b[0m",
      "\u001b[0;31mNameError\u001b[0m: name 'average' is not defined"
     ]
    }
   ],
   "source": [
    "lines = content.split(\"\\n\")\n",
    "numbers = []\n",
    "\n",
    "for i in lines:\n",
    "    if i == \"\":\n",
    "        continue\n",
    "        \n",
    "    num = int(i)\n",
    "    numbers.append(num)\n",
    "    \n",
    "print(average(numbers))"
   ]
  },
  {
   "attachments": {},
   "cell_type": "markdown",
   "id": "ad3d5e7f",
   "metadata": {},
   "source": [
    "## Example 3. I want to **plot** this in xy-plane\n",
    "<img src=\"https://cdn.ablebits.com/_img-blog/line-graph/line-graph-excel.png\" width=\"300px\"/>"
   ]
  },
  {
   "cell_type": "code",
   "execution_count": 5,
   "id": "59eee53e",
   "metadata": {},
   "outputs": [],
   "source": [
    "import matplotlib.pyplot as plt"
   ]
  },
  {
   "cell_type": "code",
   "execution_count": 7,
   "id": "51161b12",
   "metadata": {},
   "outputs": [
    {
     "data": {
      "text/plain": [
       "[<matplotlib.lines.Line2D at 0x7f4e23df4950>]"
      ]
     },
     "execution_count": 7,
     "metadata": {},
     "output_type": "execute_result"
    },
    {
     "data": {
      "image/png": "[encoded data removed]",
      "text/plain": [
       "<Figure size 432x288 with 1 Axes>"
      ]
     },
     "metadata": {
      "needs_background": "light"
     },
     "output_type": "display_data"
    }
   ],
   "source": [
    "plt.plot(numbers)"
   ]
  },
  {
   "cell_type": "markdown",
   "id": "b58c4102",
   "metadata": {},
   "source": [
    "### Can we do that to our own function or data?"
   ]
  },
  {
   "cell_type": "code",
   "execution_count": 33,
   "id": "14fcc3b4",
   "metadata": {},
   "outputs": [],
   "source": [
    "def f(x):\n",
    "    return x ** 3 + 2 * x - 5"
   ]
  },
  {
   "cell_type": "code",
   "execution_count": 34,
   "id": "b467d0dd",
   "metadata": {},
   "outputs": [],
   "source": [
    "x = []\n",
    "y = []\n",
    "\n",
    "for i in range(-100, 100):\n",
    "    value = f(i)\n",
    "    x.append(i)\n",
    "    y.append(value)"
   ]
  },
  {
   "cell_type": "code",
   "execution_count": 36,
   "id": "e01799af",
   "metadata": {},
   "outputs": [
    {
     "data": {
      "text/plain": [
       "[<matplotlib.lines.Line2D at 0x7f4e225e8d50>]"
      ]
     },
     "execution_count": 36,
     "metadata": {},
     "output_type": "execute_result"
    },
    {
     "data": {
      "image/png": "[encoded data removed]",
      "text/plain": [
       "<Figure size 432x288 with 1 Axes>"
      ]
     },
     "metadata": {
      "needs_background": "light"
     },
     "output_type": "display_data"
    }
   ],
   "source": [
    "plt.plot(x, y)"
   ]
  }
 ],
 "metadata": {
  "kernelspec": {
   "display_name": "dev1",
   "language": "python",
   "name": "dev1"
  },
  "language_info": {
   "codemirror_mode": {
    "name": "ipython",
    "version": 3
   },
   "file_extension": ".py",
   "mimetype": "text/x-python",
   "name": "python",
   "nbconvert_exporter": "python",
   "pygments_lexer": "ipython3",
   "version": "3.7.11"
  }
 },
 "nbformat": 4,
 "nbformat_minor": 5
}
