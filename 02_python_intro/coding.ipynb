{
 "cells": [
  {
   "cell_type": "markdown",
   "id": "c39839a7",
   "metadata": {},
   "source": [
    "<a rel=\"license\" href=\"http://creativecommons.org/licenses/by/4.0/\"><img alt=\"Creative Commons License\" style=\"border-width:0\" src=\"https://i.creativecommons.org/l/by/4.0/80x15.png\" /></a><br />This work is licensed under a <a rel=\"license\" href=\"http://creativecommons.org/licenses/by/4.0/\">Creative Commons Attribution 4.0 International License</a>."
   ]
  },
  {
   "cell_type": "markdown",
   "id": "0a0cdab5",
   "metadata": {
    "slideshow": {
     "slide_type": "-"
    }
   },
   "source": [
    "# Introduction to Python"
   ]
  },
  {
   "cell_type": "markdown",
   "id": "bf05e545",
   "metadata": {},
   "source": [
    "## 0. Print\n",
    "\n",
    "- Allows you to print anything\n",
    "- Helps you understand what's happening in your code (also known as \"debugging\")"
   ]
  },
  {
   "cell_type": "code",
   "execution_count": null,
   "id": "9e19674b",
   "metadata": {},
   "outputs": [],
   "source": [
    "print(10)\n",
    "print(\"saed\")\n",
    "print(-10.5)"
   ]
  },
  {
   "cell_type": "markdown",
   "id": "ff470348",
   "metadata": {},
   "source": [
    "## 0.0 Comments\n",
    "Anything you write is a code except if it has a `#` before it"
   ]
  },
  {
   "cell_type": "code",
   "execution_count": null,
   "id": "228c4c87",
   "metadata": {},
   "outputs": [],
   "source": [
    "print(10) # this prints the number 10"
   ]
  },
  {
   "cell_type": "markdown",
   "id": "f0e009fe",
   "metadata": {},
   "source": [
    "## 1. Variable (object) Initialization"
   ]
  },
  {
   "cell_type": "markdown",
   "id": "269af69c",
   "metadata": {},
   "source": [
    "Everything in Python is an object. You can define an object (variable) by giving it a name (e.g. `x`), an equal sign `=`, then giving it a value (e.g. `10` or `\"GDSC\"`)"
   ]
  },
  {
   "cell_type": "code",
   "execution_count": null,
   "id": "7b3d0a77",
   "metadata": {},
   "outputs": [],
   "source": [
    "x = 10\n",
    "print(x)\n",
    "\n",
    "x = \"saed\"\n",
    "print(x)\n",
    "\n",
    "x = 10.5\n",
    "print(x)"
   ]
  },
  {
   "cell_type": "markdown",
   "id": "135ee75c",
   "metadata": {},
   "source": [
    "### 1.1. Numerical Types"
   ]
  },
  {
   "cell_type": "markdown",
   "id": "ee2d22cc",
   "metadata": {},
   "source": [
    "- Integers (e.g. `1`, `2`, `-10`, `50`, `5`)"
   ]
  },
  {
   "cell_type": "code",
   "execution_count": null,
   "id": "075c06d4",
   "metadata": {},
   "outputs": [],
   "source": [
    "x = 10\n",
    "print(x)"
   ]
  },
  {
   "cell_type": "markdown",
   "id": "0346ac35",
   "metadata": {},
   "source": [
    "You can underscores `_` for readability"
   ]
  },
  {
   "cell_type": "code",
   "execution_count": null,
   "id": "003dab01",
   "metadata": {},
   "outputs": [],
   "source": [
    "x = 1_000_000  # same as x = 1000000\n",
    "print(x)"
   ]
  },
  {
   "cell_type": "markdown",
   "id": "2c80e5f2",
   "metadata": {},
   "source": [
    "You can **add, subtract, multiple, and divide** them:"
   ]
  },
  {
   "cell_type": "code",
   "execution_count": null,
   "id": "d5dee7a1",
   "metadata": {},
   "outputs": [],
   "source": [
    "x = 25\n",
    "y = 20\n",
    "print(x + y)\n",
    "print(x - y)\n",
    "print(x * y)\n",
    "print(x / y)\n",
    "print(x % y)"
   ]
  },
  {
   "cell_type": "markdown",
   "id": "e0db1957",
   "metadata": {},
   "source": [
    "You can **raise** them to a power:"
   ]
  },
  {
   "cell_type": "code",
   "execution_count": null,
   "id": "00e749a9",
   "metadata": {},
   "outputs": [],
   "source": [
    "x = 2\n",
    "y = 3\n",
    "w = x ** y\n",
    "print(w)"
   ]
  },
  {
   "cell_type": "markdown",
   "id": "d8d778fb",
   "metadata": {},
   "source": [
    "- Floats/Floating-point numbers (e.g. `1.5`, `2.3`, `-0.000001`, `1.3e10`). They represent **Real** numbers."
   ]
  },
  {
   "cell_type": "code",
   "execution_count": null,
   "id": "e2929195",
   "metadata": {},
   "outputs": [],
   "source": [
    "y = 2.5\n",
    "print(y)"
   ]
  },
  {
   "cell_type": "code",
   "execution_count": null,
   "id": "9a3b7d12",
   "metadata": {},
   "outputs": [],
   "source": [
    "x = 2e5\n",
    "print(x)"
   ]
  },
  {
   "cell_type": "markdown",
   "id": "e9f34d88",
   "metadata": {},
   "source": [
    "- Complex Numbers (e.g. `1 + 5j`)"
   ]
  },
  {
   "cell_type": "code",
   "execution_count": null,
   "id": "ffa0d7a9",
   "metadata": {},
   "outputs": [],
   "source": [
    "z = 1 + 5j\n",
    "print(z)"
   ]
  },
  {
   "cell_type": "markdown",
   "id": "d0086d7d",
   "metadata": {},
   "source": [
    "You can do the same operations on those as well:"
   ]
  },
  {
   "cell_type": "code",
   "execution_count": null,
   "id": "59f60456",
   "metadata": {},
   "outputs": [],
   "source": [
    "x = 3.5\n",
    "y = 3.2\n",
    "print(x + y)\n",
    "print(x - y)\n",
    "print(x * y)\n",
    "print(x / y)\n",
    "print(x % y)  # This is weird!"
   ]
  },
  {
   "cell_type": "code",
   "execution_count": null,
   "id": "4b866b09",
   "metadata": {},
   "outputs": [],
   "source": [
    "x = 2\n",
    "y = 3\n",
    "z = 4\n",
    "\n",
    "print(x + y * z)\n",
    "\n",
    "print((x + y) * z)"
   ]
  },
  {
   "cell_type": "markdown",
   "id": "6f4c530a",
   "metadata": {},
   "source": [
    "#### How do we get the square root of a number?\n",
    "- Square root is power of 1/2\n",
    "- We can raise numbers to powers!"
   ]
  },
  {
   "cell_type": "code",
   "execution_count": null,
   "id": "707483da",
   "metadata": {},
   "outputs": [],
   "source": [
    "x = 9\n",
    "print(x ** 0.5)"
   ]
  },
  {
   "cell_type": "markdown",
   "id": "2f2efbf3",
   "metadata": {},
   "source": [
    "#### How about the cubic root?"
   ]
  },
  {
   "cell_type": "code",
   "execution_count": null,
   "id": "f3defeb4",
   "metadata": {},
   "outputs": [],
   "source": [
    "x = 8\n",
    "print(x ** 0.333333333)"
   ]
  },
  {
   "cell_type": "markdown",
   "id": "8f6e3aec",
   "metadata": {},
   "source": [
    "_But that's obviously wrong!_\n",
    "\n",
    "#### Here's how to do it!"
   ]
  },
  {
   "cell_type": "code",
   "execution_count": null,
   "id": "928ce6fd",
   "metadata": {},
   "outputs": [],
   "source": [
    "x = 8\n",
    "print(x ** (1 / 3))"
   ]
  },
  {
   "cell_type": "markdown",
   "id": "954698b7",
   "metadata": {},
   "source": [
    "### 1.2. String Type\n",
    "- Consists of a set of characters/symbols; usually representing text\n",
    "- Can be enclosed in double quotes `\"` or single quotes `'`; double quotes `\"` are preferred almost all the time"
   ]
  },
  {
   "cell_type": "code",
   "execution_count": null,
   "id": "4eefc03f",
   "metadata": {},
   "outputs": [],
   "source": [
    "s = \"Introduction to Python\"  # or s = 'Introduction to Python'\n",
    "print(s)"
   ]
  },
  {
   "cell_type": "code",
   "execution_count": null,
   "id": "df9b7ef7",
   "metadata": {},
   "outputs": [],
   "source": [
    "s = \"10\"\n",
    "print(s)"
   ]
  },
  {
   "cell_type": "code",
   "execution_count": null,
   "id": "cee9eff0",
   "metadata": {},
   "outputs": [],
   "source": [
    "s = \"this is a long\\nstring on two lines\" # \\n means a new line\n",
    "print(s)"
   ]
  },
  {
   "cell_type": "code",
   "execution_count": null,
   "id": "f7f559dd",
   "metadata": {},
   "outputs": [],
   "source": [
    "print(s[0])\n",
    "print(s[5:10])\n",
    "print(s[-1])"
   ]
  },
  {
   "cell_type": "code",
   "execution_count": null,
   "id": "d06b6e2c",
   "metadata": {},
   "outputs": [],
   "source": [
    "name = \"saad\"\n",
    "statement = \"my name is\"\n",
    "\n",
    "x = statement + \" \" + name\n",
    "\n",
    "print(x)"
   ]
  },
  {
   "cell_type": "code",
   "execution_count": null,
   "id": "1b0cf204",
   "metadata": {},
   "outputs": [],
   "source": [
    "x.upper() # uppercase = capital letters"
   ]
  },
  {
   "cell_type": "code",
   "execution_count": null,
   "id": "478e9723",
   "metadata": {},
   "outputs": [],
   "source": [
    "help(sum)"
   ]
  },
  {
   "cell_type": "markdown",
   "id": "f75e8e18",
   "metadata": {},
   "source": [
    "### 1.3. Bool Type\n",
    "- Represents a logical value (e.g. `True`, `False`, `10 == 5`)"
   ]
  },
  {
   "cell_type": "code",
   "execution_count": null,
   "id": "ed6a7d11",
   "metadata": {},
   "outputs": [],
   "source": [
    "b = True\n",
    "print(b)\n",
    "\n",
    "b = False\n",
    "print(b)\n",
    "\n",
    "print(b == 10)"
   ]
  },
  {
   "cell_type": "markdown",
   "id": "c4ba2bb2",
   "metadata": {},
   "source": [
    "### 1.4. Sequence Type"
   ]
  },
  {
   "cell_type": "markdown",
   "id": "1d2653af",
   "metadata": {},
   "source": [
    "- Lists: can hold multiple values with different types\n",
    "- In C++, this is closer to an array"
   ]
  },
  {
   "cell_type": "code",
   "execution_count": null,
   "id": "b050fa0d",
   "metadata": {},
   "outputs": [],
   "source": [
    "x = [91, 85, 75, 55, \"hello\", True]\n",
    "print(x)"
   ]
  },
  {
   "cell_type": "markdown",
   "id": "dc21b3ae",
   "metadata": {},
   "source": [
    "You can change an item:"
   ]
  },
  {
   "cell_type": "code",
   "execution_count": null,
   "id": "05df0db7",
   "metadata": {},
   "outputs": [],
   "source": [
    "x[0] = \"my new value!!!!\"  # this is called an item\n",
    "print(x)"
   ]
  },
  {
   "cell_type": "code",
   "execution_count": null,
   "id": "db4d219d",
   "metadata": {},
   "outputs": [],
   "source": [
    "w = x[1]\n",
    "print(w)"
   ]
  },
  {
   "cell_type": "markdown",
   "id": "9609b2df",
   "metadata": {},
   "source": [
    "Add a new item?"
   ]
  },
  {
   "cell_type": "code",
   "execution_count": null,
   "id": "6dbd174e",
   "metadata": {},
   "outputs": [],
   "source": [
    "x.append(\"new item!\")\n",
    "print(x)"
   ]
  },
  {
   "cell_type": "markdown",
   "id": "2c54e597",
   "metadata": {},
   "source": [
    "How many items in the list?\n",
    "\n",
    "You can `len(...)` to know that. `len` stands for Length."
   ]
  },
  {
   "cell_type": "code",
   "execution_count": null,
   "id": "77d2cbfb",
   "metadata": {},
   "outputs": [],
   "source": [
    "len(x)"
   ]
  },
  {
   "cell_type": "markdown",
   "id": "daf96de1",
   "metadata": {},
   "source": [
    "- Tuples: same as lists; they just can't be changed"
   ]
  },
  {
   "cell_type": "code",
   "execution_count": null,
   "id": "bc86226c",
   "metadata": {
    "scrolled": true
   },
   "outputs": [],
   "source": [
    "x = (91, 85, 75, 55, \"hello\", True)\n",
    "print(x)\n",
    "\n",
    "x[0] = \"my new value\""
   ]
  },
  {
   "cell_type": "code",
   "execution_count": null,
   "id": "ee664e62",
   "metadata": {},
   "outputs": [],
   "source": [
    "print(x[0])\n",
    "print(x[1])"
   ]
  },
  {
   "cell_type": "markdown",
   "id": "67fc4650",
   "metadata": {},
   "source": [
    "_What if I want to do_ `x[\"Mohammad\"]` _instead of_ `x[1]`?"
   ]
  },
  {
   "cell_type": "markdown",
   "id": "72c975e2",
   "metadata": {},
   "source": [
    "### 1.5. Dictionary\n",
    "\n",
    "- A `key`-`value` store\n",
    "- Some languages call it a **map**, some call it a **hash table**\n",
    "- In c++, this is closer to a `map`\n"
   ]
  },
  {
   "cell_type": "markdown",
   "id": "a65d16dd",
   "metadata": {},
   "source": [
    "`\"Saed\"` is a key; `65.5` is its value"
   ]
  },
  {
   "cell_type": "code",
   "execution_count": null,
   "id": "14ebbb6c",
   "metadata": {},
   "outputs": [],
   "source": [
    "x = {\n",
    "    \"Saed\": 65.5,\n",
    "    \"Mohammad\": \"91\",\n",
    "    \"Ahmad\": 70,\n",
    "    \"Anas\": \"85\",\n",
    "    10: True,\n",
    "}\n",
    "\n",
    "print(x)"
   ]
  },
  {
   "cell_type": "code",
   "execution_count": null,
   "id": "f8e66515",
   "metadata": {},
   "outputs": [],
   "source": [
    "print(x[\"Saed\"])"
   ]
  },
  {
   "cell_type": "code",
   "execution_count": null,
   "id": "350ce8ed",
   "metadata": {},
   "outputs": [],
   "source": [
    "x[\"hello\"] = 1564\n",
    "print(x)"
   ]
  },
  {
   "cell_type": "code",
   "execution_count": null,
   "id": "a44214a2",
   "metadata": {},
   "outputs": [],
   "source": [
    "print(x.keys())"
   ]
  },
  {
   "cell_type": "code",
   "execution_count": null,
   "id": "e7132a92",
   "metadata": {},
   "outputs": [],
   "source": [
    "print(x.values())"
   ]
  },
  {
   "cell_type": "markdown",
   "id": "62907d61",
   "metadata": {},
   "source": [
    "- Anything can be a value\n",
    "\n",
    "- _Almost_ anything can be a key"
   ]
  },
  {
   "cell_type": "markdown",
   "id": "ac56f48a",
   "metadata": {},
   "source": [
    "## 2. Flow Control"
   ]
  },
  {
   "cell_type": "markdown",
   "id": "659d10d3",
   "metadata": {},
   "source": [
    "### 2.1. If-else if-else\n",
    "\n",
    "You give it a condition; it gets evaluated to a boolean (True or False), based on the result we choose our path"
   ]
  },
  {
   "cell_type": "code",
   "execution_count": null,
   "id": "b19018cc",
   "metadata": {},
   "outputs": [],
   "source": [
    "if 10 < 15:\n",
    "    print(\"ONE\")\n",
    "else:\n",
    "    print(\"TWO\")"
   ]
  },
  {
   "cell_type": "code",
   "execution_count": null,
   "id": "7384d370",
   "metadata": {},
   "outputs": [],
   "source": [
    "if 25 > 30:\n",
    "    print(\"THREE\")\n",
    "else:\n",
    "    print(\"FOUR\")"
   ]
  },
  {
   "cell_type": "code",
   "execution_count": null,
   "id": "7cfec497",
   "metadata": {},
   "outputs": [],
   "source": [
    "if 25 == 30:\n",
    "    print(\"HERE\")\n",
    "elif 25 > 30:\n",
    "    print(\"NOT HERE\")"
   ]
  },
  {
   "cell_type": "code",
   "execution_count": null,
   "id": "8a414283",
   "metadata": {},
   "outputs": [],
   "source": [
    "x = 16\n",
    "\n",
    "if x != 30:\n",
    "    print(\"FIVE\")\n",
    "else:\n",
    "    print(\"SIX\")"
   ]
  },
  {
   "cell_type": "code",
   "execution_count": null,
   "id": "ee4b1f4e",
   "metadata": {},
   "outputs": [],
   "source": [
    "x = 81\n",
    "\n",
    "if 100 > x >= 90:\n",
    "    print(\"A\")\n",
    "else:\n",
    "    print(\"Not A\")"
   ]
  },
  {
   "cell_type": "markdown",
   "id": "f4996522",
   "metadata": {},
   "source": [
    "You can use `and`, `or`, and `not`.\n",
    "\n",
    "Those are equivelant to `&&`, `||`, `!` in C++."
   ]
  },
  {
   "cell_type": "code",
   "execution_count": null,
   "id": "bec3a731",
   "metadata": {},
   "outputs": [],
   "source": [
    "x = 81\n",
    "\n",
    "if 100 > x and x >= 90:\n",
    "    print(\"A\")\n",
    "else:\n",
    "    print(\"Not A\")"
   ]
  },
  {
   "cell_type": "code",
   "execution_count": null,
   "id": "05ffc706",
   "metadata": {},
   "outputs": [],
   "source": [
    "x = 81\n",
    "\n",
    "if x > 100 or x < -100:\n",
    "    print(\"HELLO\")\n",
    "else:\n",
    "    print(\"BYE\")"
   ]
  },
  {
   "cell_type": "markdown",
   "id": "d0058de9",
   "metadata": {},
   "source": [
    "### 2.2. Loops / Repitition\n",
    "\n",
    "Python has two types of loops; `for` and `while` loops"
   ]
  },
  {
   "cell_type": "markdown",
   "id": "fb626dc6",
   "metadata": {},
   "source": [
    "You can loop over a list!"
   ]
  },
  {
   "cell_type": "code",
   "execution_count": null,
   "id": "5b45cf3a",
   "metadata": {},
   "outputs": [],
   "source": [
    "grades = [88, 77, 79, 95, 90]\n",
    "\n",
    "for i in grades:\n",
    "    print(i)"
   ]
  },
  {
   "cell_type": "markdown",
   "id": "154731c6",
   "metadata": {},
   "source": [
    "You can loop over a dictionary"
   ]
  },
  {
   "cell_type": "code",
   "execution_count": null,
   "id": "f3ffadfa",
   "metadata": {},
   "outputs": [],
   "source": [
    "grades = {\n",
    "    \"Saed\": 65.5,\n",
    "    \"Mohammad\": 91,\n",
    "    \"Ahmad\": 70,\n",
    "    \"Anas\": 85,\n",
    "}\n",
    "\n",
    "for i in grades:\n",
    "    print(i)"
   ]
  },
  {
   "cell_type": "code",
   "execution_count": null,
   "id": "b6917760",
   "metadata": {},
   "outputs": [],
   "source": [
    "for i in grades:\n",
    "    print(i, grades[i])"
   ]
  },
  {
   "cell_type": "markdown",
   "id": "1ec627b2",
   "metadata": {},
   "source": [
    "#### I just want to loop for 10 times!"
   ]
  },
  {
   "cell_type": "code",
   "execution_count": null,
   "id": "262a95a1",
   "metadata": {},
   "outputs": [],
   "source": [
    "k = 10\n",
    "mylist = []\n",
    "\n",
    "for i in range(k):\n",
    "    if i == 5:\n",
    "        continue\n",
    "    mylist.append(i)\n",
    "    print(\"added\", i, \"to the list\")\n",
    "\n",
    "print(mylist)"
   ]
  },
  {
   "cell_type": "markdown",
   "id": "84d7a4e5",
   "metadata": {},
   "source": [
    "#### Or you can use a while loop for that"
   ]
  },
  {
   "cell_type": "code",
   "execution_count": null,
   "id": "72432200",
   "metadata": {},
   "outputs": [],
   "source": [
    "k = 10\n",
    "i = 0\n",
    "\n",
    "while i < k:\n",
    "    print(i)\n",
    "    i = i + 1"
   ]
  },
  {
   "cell_type": "markdown",
   "id": "8686d301",
   "metadata": {},
   "source": [
    "Another way of doing it is:"
   ]
  },
  {
   "cell_type": "code",
   "execution_count": null,
   "id": "4f46ac6e",
   "metadata": {},
   "outputs": [],
   "source": [
    "k = 10\n",
    "i = 0\n",
    "\n",
    "while True:\n",
    "    print(i)\n",
    "    i = i + 1\n",
    "    if i >= k:\n",
    "        break"
   ]
  },
  {
   "cell_type": "markdown",
   "id": "beae0335",
   "metadata": {},
   "source": [
    "## 3. Reading user input"
   ]
  },
  {
   "cell_type": "code",
   "execution_count": null,
   "id": "7aaa6d5e",
   "metadata": {},
   "outputs": [],
   "source": [
    "a = input(\"Enter a number: \")\n",
    "print(\"The user entered\", a)"
   ]
  },
  {
   "cell_type": "markdown",
   "id": "1fbd3694",
   "metadata": {},
   "source": [
    "Let's add `10` to it!"
   ]
  },
  {
   "cell_type": "code",
   "execution_count": null,
   "id": "08bac11d",
   "metadata": {},
   "outputs": [],
   "source": [
    "a + 10"
   ]
  },
  {
   "cell_type": "markdown",
   "id": "0ff1fbe5",
   "metadata": {},
   "source": [
    "#### Everything you read from the user is a string"
   ]
  },
  {
   "cell_type": "code",
   "execution_count": null,
   "id": "71c7dbbe",
   "metadata": {},
   "outputs": [],
   "source": [
    "print(type(a))"
   ]
  },
  {
   "cell_type": "markdown",
   "id": "62e1777d",
   "metadata": {},
   "source": [
    "We should first change it an int"
   ]
  },
  {
   "cell_type": "code",
   "execution_count": null,
   "id": "6c5d72ac",
   "metadata": {},
   "outputs": [],
   "source": [
    "new_a = int(a)  # you can also try float(a)"
   ]
  },
  {
   "cell_type": "code",
   "execution_count": null,
   "id": "a6ce0cb9",
   "metadata": {},
   "outputs": [],
   "source": [
    "print(type(new_a))"
   ]
  },
  {
   "cell_type": "code",
   "execution_count": null,
   "id": "47760e0e",
   "metadata": {},
   "outputs": [],
   "source": [
    "print(new_a + 10)"
   ]
  },
  {
   "cell_type": "markdown",
   "id": "4102db14",
   "metadata": {},
   "source": [
    "## 4. Functions"
   ]
  },
  {
   "cell_type": "markdown",
   "id": "b23313f9",
   "metadata": {},
   "source": [
    "Let's say we want to get the average grade in an exam!\n",
    "\n",
    "We get the sum, then we divide by the number of students."
   ]
  },
  {
   "cell_type": "code",
   "execution_count": null,
   "id": "559150b0",
   "metadata": {},
   "outputs": [],
   "source": [
    "grades = [10, 5, 7, 9, 5, 6]\n",
    "\n",
    "counter = 0\n",
    "total = 0\n",
    "\n",
    "for i in grades:\n",
    "    total = total + i\n",
    "    counter = counter + 1\n",
    "\n",
    "print(total / counter)"
   ]
  },
  {
   "cell_type": "markdown",
   "id": "6f5f5a3d",
   "metadata": {},
   "source": [
    "#### What if we have multiple exams and we don't want to keep repeating the code?"
   ]
  },
  {
   "cell_type": "code",
   "execution_count": null,
   "id": "172cb0af",
   "metadata": {},
   "outputs": [],
   "source": [
    "def average(grades):\n",
    "    counter = 0\n",
    "    total = 0\n",
    "\n",
    "    for i in grades:\n",
    "        total = total + i\n",
    "        counter = counter + 1\n",
    "\n",
    "    avg = total / counter\n",
    "\n",
    "    return avg"
   ]
  },
  {
   "cell_type": "markdown",
   "id": "9e0c7e06",
   "metadata": {},
   "source": [
    "and then we just call it!"
   ]
  },
  {
   "cell_type": "code",
   "execution_count": null,
   "id": "d38e3f30",
   "metadata": {},
   "outputs": [],
   "source": [
    "grades = [10, 5, 7, 9, 5, 6]\n",
    "avg = average(grades)\n",
    "print(avg)"
   ]
  },
  {
   "cell_type": "code",
   "execution_count": null,
   "id": "f7fbb971",
   "metadata": {},
   "outputs": [],
   "source": [
    "grades = [10, 5, 10, 3, 5, 3, 6.5, 7, 9, 5, 6]\n",
    "avg = average(grades)\n",
    "print(avg)"
   ]
  },
  {
   "cell_type": "markdown",
   "id": "a0ff1331",
   "metadata": {},
   "source": [
    "A function can return a value (like `avg`) but it doesn't have to"
   ]
  },
  {
   "cell_type": "code",
   "execution_count": null,
   "id": "d0b493fc",
   "metadata": {},
   "outputs": [],
   "source": [
    "def greet(greeting, name):\n",
    "    \"\"\"This function greets\n",
    "    Parameters\n",
    "    ----------\n",
    "    greeting : str\n",
    "        What to greet people with\n",
    "    name : bool, optional\n",
    "        Who to greet\n",
    "    \"\"\"\n",
    "    print(greeting, name)"
   ]
  },
  {
   "cell_type": "code",
   "execution_count": null,
   "id": "3ffdd5f5",
   "metadata": {},
   "outputs": [],
   "source": [
    "greet(\"hello\", \"students\")"
   ]
  },
  {
   "cell_type": "code",
   "execution_count": null,
   "id": "035f82e5",
   "metadata": {
    "scrolled": true
   },
   "outputs": [],
   "source": [
    "greet(\"salam\", \"GDSC\")"
   ]
  },
  {
   "cell_type": "markdown",
   "id": "da6a3315",
   "metadata": {},
   "source": [
    "#### Calculus?\n",
    "<i><h4>f(x) = x<sup>2</sup> + 2x - 5</h4></i>"
   ]
  },
  {
   "cell_type": "code",
   "execution_count": null,
   "id": "da1c1c09",
   "metadata": {},
   "outputs": [],
   "source": [
    "def f(x):\n",
    "    return x ** 2 + 2 * x - 5"
   ]
  },
  {
   "cell_type": "code",
   "execution_count": null,
   "id": "16cdc3ad",
   "metadata": {},
   "outputs": [],
   "source": [
    "print(f(1))"
   ]
  },
  {
   "cell_type": "code",
   "execution_count": null,
   "id": "b24d591a",
   "metadata": {},
   "outputs": [],
   "source": [
    "print(f(0.1))"
   ]
  },
  {
   "cell_type": "code",
   "execution_count": null,
   "id": "d9f24316",
   "metadata": {},
   "outputs": [],
   "source": [
    "print(f(2 + 5j))"
   ]
  },
  {
   "cell_type": "markdown",
   "id": "26fbd0b9",
   "metadata": {},
   "source": [
    "## 5. Modules\n",
    "\n",
    "You're not always going to write everything from scratch.\n",
    "\n",
    "Also, python has a lot of open-source libraries that you can just download and use, almost for anything you can think of!"
   ]
  },
  {
   "cell_type": "markdown",
   "id": "493f3f3d",
   "metadata": {},
   "source": [
    "You use `import` to load code from other modules or libraries:\n",
    "\n",
    "```python\n",
    "import functions\n",
    "\n",
    "functions.f(...)\n",
    "```\n",
    "\n",
    "\n",
    "you can use `as` to shortcut/alias the usage:\n",
    "```python\n",
    "import functions as abc\n",
    "\n",
    "abc.f(...)\n",
    "```\n",
    "\n",
    "You only need to do it once in a file or notebook! (unless it's inside a function)"
   ]
  },
  {
   "cell_type": "code",
   "execution_count": null,
   "id": "f2f131d1",
   "metadata": {},
   "outputs": [],
   "source": [
    "import functions\n",
    "\n",
    "print(functions.f(1))"
   ]
  },
  {
   "cell_type": "code",
   "execution_count": null,
   "id": "719781af",
   "metadata": {},
   "outputs": [],
   "source": [
    "import functions as abc\n",
    "\n",
    "print(abc.f(1))"
   ]
  },
  {
   "cell_type": "markdown",
   "id": "a5906692",
   "metadata": {},
   "source": [
    "## Example 1. Average CoViD-19 Cases\n",
    "\n",
    "1. The data exists in a file named `covid.txt`.\n",
    "2. Each line represents a day.\n",
    "3. We want to calculate the average of that.\n",
    "\n",
    "### How to do it?\n",
    "\n",
    "1. **Open** the file.\n",
    "2. **Read** a line.\n",
    "3. **Convert** it to a number (integer or float)\n",
    "4. **Add** it to list\n",
    "5. **Repeat** from `3.` until the file is finished.\n",
    "6. **Calculate** the sum.\n",
    "7. **Divide** by the number of days."
   ]
  },
  {
   "cell_type": "code",
   "execution_count": null,
   "id": "9b8fa95f",
   "metadata": {},
   "outputs": [],
   "source": [
    "file = open(\"covid.txt\", \"r\") # \"r\" means read; \"w\" means write\n",
    "\n",
    "numbers = []\n",
    "\n",
    "for line in file: # this will read a line in every iteration; \"iteration means 1 cycle inside a loop\n",
    "    num = int(line)\n",
    "    numbers.append(num)\n",
    "\n",
    "print(\"How many numbers do we have?\", len(numbers))\n",
    "print(numbers)"
   ]
  },
  {
   "cell_type": "code",
   "execution_count": null,
   "id": "e315123c",
   "metadata": {},
   "outputs": [],
   "source": [
    "total = sum(numbers)\n",
    "print(total)\n",
    "\n",
    "avg = total/len(numbers)\n",
    "print(\"average cases per day:\", avg)"
   ]
  },
  {
   "cell_type": "code",
   "execution_count": null,
   "id": "5322f9f5",
   "metadata": {},
   "outputs": [],
   "source": [
    "def average(nums):\n",
    "    total = sum(nums)\n",
    "    avg = total/len(nums)\n",
    "    \n",
    "    return avg"
   ]
  },
  {
   "cell_type": "code",
   "execution_count": null,
   "id": "932ed87b",
   "metadata": {},
   "outputs": [],
   "source": [
    "average(numbers)"
   ]
  },
  {
   "cell_type": "markdown",
   "id": "a14554a9",
   "metadata": {},
   "source": [
    "## Example 2. Average CoViD-19 Cases (file on the internet)\n",
    "\n",
    "What if the file exists on the internet? Can I do the same thing without downloading it manually?"
   ]
  },
  {
   "cell_type": "code",
   "execution_count": null,
   "id": "bf9da1c3",
   "metadata": {
    "scrolled": true
   },
   "outputs": [],
   "source": [
    "import requests\n",
    "\n",
    "link = \"https://maktabti.xyz/covid.txt\"\n",
    "\n",
    "result = requests.get(link)\n",
    "\n",
    "print(\"http code:\", result.status_code) # 200's are ok, 400's and 500's mean something went wrong\n",
    "\n",
    "content = result.text\n",
    "print(\"response:\", content)"
   ]
  },
  {
   "cell_type": "code",
   "execution_count": null,
   "id": "ead5d918",
   "metadata": {},
   "outputs": [],
   "source": [
    "print(content.split(\"\\n\"))"
   ]
  },
  {
   "cell_type": "code",
   "execution_count": null,
   "id": "68e4f422",
   "metadata": {},
   "outputs": [],
   "source": [
    "lines = content.split(\"\\n\")\n",
    "numbers = []\n",
    "\n",
    "for i in lines:\n",
    "    if i == \"\":\n",
    "        continue\n",
    "        \n",
    "    num = int(i)\n",
    "    numbers.append(num)\n",
    "    \n",
    "print(average(numbers))"
   ]
  },
  {
   "attachments": {},
   "cell_type": "markdown",
   "id": "6ee1a29f",
   "metadata": {},
   "source": [
    "## Example 3. I want to **plot** this in xy-plane\n",
    "<img src=\"https://cdn.ablebits.com/_img-blog/line-graph/line-graph-excel.png\" width=\"300px\"/>"
   ]
  },
  {
   "cell_type": "code",
   "execution_count": null,
   "id": "eeb79e48",
   "metadata": {},
   "outputs": [],
   "source": [
    "import matplotlib.pyplot as plt"
   ]
  },
  {
   "cell_type": "code",
   "execution_count": null,
   "id": "7332f7cf",
   "metadata": {},
   "outputs": [],
   "source": [
    "plt.plot(numbers)"
   ]
  },
  {
   "cell_type": "markdown",
   "id": "1445b213",
   "metadata": {},
   "source": [
    "### Can we do that to our own function or data?"
   ]
  },
  {
   "cell_type": "code",
   "execution_count": null,
   "id": "554f18b4",
   "metadata": {},
   "outputs": [],
   "source": [
    "def f(x):\n",
    "    return x ** 3 + 2 * x - 5"
   ]
  },
  {
   "cell_type": "code",
   "execution_count": null,
   "id": "4fc40062",
   "metadata": {},
   "outputs": [],
   "source": [
    "x = []\n",
    "y = []\n",
    "\n",
    "for i in range(-100, 100):\n",
    "    value = f(i)\n",
    "    x.append(i)\n",
    "    y.append(value)"
   ]
  },
  {
   "cell_type": "code",
   "execution_count": null,
   "id": "1cfbcf28",
   "metadata": {},
   "outputs": [],
   "source": [
    "plt.plot(x, y)"
   ]
  }
 ],
 "metadata": {
  "kernelspec": {
   "display_name": "dev1",
   "language": "python",
   "name": "dev1"
  },
  "language_info": {
   "codemirror_mode": {
    "name": "ipython",
    "version": 3
   },
   "file_extension": ".py",
   "mimetype": "text/x-python",
   "name": "python",
   "nbconvert_exporter": "python",
   "pygments_lexer": "ipython3",
   "version": "3.7.11"
  }
 },
 "nbformat": 4,
 "nbformat_minor": 5
}
