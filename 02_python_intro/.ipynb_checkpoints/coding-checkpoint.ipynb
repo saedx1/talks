{
 "cells": [
  {
   "cell_type": "markdown",
   "id": "0a0cdab5",
   "metadata": {
    "slideshow": {
     "slide_type": "-"
    }
   },
   "source": [
    "# Introduction to Python"
   ]
  },
  {
   "cell_type": "markdown",
   "id": "bf05e545",
   "metadata": {},
   "source": [
    "## 0. Print\n",
    "\n",
    "- Allows you to print anything\n",
    "- Helps you understand what's happening in your code (also known as \"debugging\")"
   ]
  },
  {
   "cell_type": "code",
   "execution_count": 69,
   "id": "9e19674b",
   "metadata": {},
   "outputs": [
    {
     "name": "stdout",
     "output_type": "stream",
     "text": [
      "10\n",
      "saed\n",
      "10.5\n"
     ]
    }
   ],
   "source": [
    "print(10)\n",
    "print(\"saed\")\n",
    "print(10.5)"
   ]
  },
  {
   "cell_type": "markdown",
   "id": "f0e009fe",
   "metadata": {},
   "source": [
    "## 1. Variable Initialization"
   ]
  },
  {
   "cell_type": "markdown",
   "id": "269af69c",
   "metadata": {},
   "source": [
    "You can define a varible by giving it a name (e.g. `x`), an equal sign `=`, then giving it a value (e.g. `10` or `\"GDSC\"`)"
   ]
  },
  {
   "cell_type": "code",
   "execution_count": 71,
   "id": "7b3d0a77",
   "metadata": {},
   "outputs": [
    {
     "name": "stdout",
     "output_type": "stream",
     "text": [
      "10\n",
      "saed\n",
      "10.5\n"
     ]
    }
   ],
   "source": [
    "x = 10\n",
    "print(x)\n",
    "\n",
    "x = \"saed\"\n",
    "print(x)\n",
    "\n",
    "x = 10.5\n",
    "print(x)"
   ]
  },
  {
   "cell_type": "markdown",
   "id": "135ee75c",
   "metadata": {},
   "source": [
    "### 1.1. Numerical Types"
   ]
  },
  {
   "cell_type": "markdown",
   "id": "ee2d22cc",
   "metadata": {},
   "source": [
    "- Integers (e.g. `1`, `2`, `-10`, `50`, `5`)"
   ]
  },
  {
   "cell_type": "code",
   "execution_count": 1,
   "id": "075c06d4",
   "metadata": {},
   "outputs": [
    {
     "name": "stdout",
     "output_type": "stream",
     "text": [
      "10\n"
     ]
    }
   ],
   "source": [
    "x = 10\n",
    "print(x)"
   ]
  },
  {
   "cell_type": "markdown",
   "id": "0346ac35",
   "metadata": {},
   "source": [
    "You can underscores `_` for readability"
   ]
  },
  {
   "cell_type": "code",
   "execution_count": 70,
   "id": "003dab01",
   "metadata": {},
   "outputs": [
    {
     "name": "stdout",
     "output_type": "stream",
     "text": [
      "1000000\n"
     ]
    }
   ],
   "source": [
    "x = 1_000_000  # same as x = 1000000\n",
    "print(x)"
   ]
  },
  {
   "cell_type": "markdown",
   "id": "2c80e5f2",
   "metadata": {},
   "source": [
    "You can **add, subtract, multiple, and divide** them:"
   ]
  },
  {
   "cell_type": "code",
   "execution_count": 3,
   "id": "d5dee7a1",
   "metadata": {},
   "outputs": [
    {
     "name": "stdout",
     "output_type": "stream",
     "text": [
      "45\n",
      "5\n",
      "500\n",
      "1.25\n",
      "5\n"
     ]
    }
   ],
   "source": [
    "x = 25\n",
    "y = 20\n",
    "print(x + y)\n",
    "print(x - y)\n",
    "print(x * y)\n",
    "print(x / y)\n",
    "print(x % y)"
   ]
  },
  {
   "cell_type": "markdown",
   "id": "e0db1957",
   "metadata": {},
   "source": [
    "You can **raise** them to a power:"
   ]
  },
  {
   "cell_type": "code",
   "execution_count": 4,
   "id": "00e749a9",
   "metadata": {},
   "outputs": [
    {
     "name": "stdout",
     "output_type": "stream",
     "text": [
      "8\n"
     ]
    }
   ],
   "source": [
    "x = 2\n",
    "y = 3\n",
    "w = x ** y\n",
    "print(w)"
   ]
  },
  {
   "cell_type": "markdown",
   "id": "d8d778fb",
   "metadata": {},
   "source": [
    "- Floats/Floating-point numbers (e.g. `1.5`, `2.3`, `-0.000001`, `1.3e10`)"
   ]
  },
  {
   "cell_type": "code",
   "execution_count": 5,
   "id": "e2929195",
   "metadata": {},
   "outputs": [
    {
     "name": "stdout",
     "output_type": "stream",
     "text": [
      "2.5\n"
     ]
    }
   ],
   "source": [
    "y = 2.5\n",
    "print(y)"
   ]
  },
  {
   "cell_type": "code",
   "execution_count": 6,
   "id": "9a3b7d12",
   "metadata": {},
   "outputs": [
    {
     "name": "stdout",
     "output_type": "stream",
     "text": [
      "200000.0\n"
     ]
    }
   ],
   "source": [
    "x = 2e5\n",
    "print(x)"
   ]
  },
  {
   "cell_type": "markdown",
   "id": "e9f34d88",
   "metadata": {},
   "source": [
    "- Complex Numbers (e.g. `1 + 5j`)"
   ]
  },
  {
   "cell_type": "code",
   "execution_count": 7,
   "id": "ffa0d7a9",
   "metadata": {},
   "outputs": [
    {
     "name": "stdout",
     "output_type": "stream",
     "text": [
      "(1+5j)\n"
     ]
    }
   ],
   "source": [
    "z = 1 + 5j\n",
    "print(z)"
   ]
  },
  {
   "cell_type": "markdown",
   "id": "d0086d7d",
   "metadata": {},
   "source": [
    "You can do the same operations on those as well:"
   ]
  },
  {
   "cell_type": "code",
   "execution_count": 8,
   "id": "59f60456",
   "metadata": {},
   "outputs": [
    {
     "name": "stdout",
     "output_type": "stream",
     "text": [
      "6.7\n",
      "0.2999999999999998\n",
      "11.200000000000001\n",
      "1.09375\n",
      "0.2999999999999998\n"
     ]
    }
   ],
   "source": [
    "x = 3.5\n",
    "y = 3.2\n",
    "print(x + y)\n",
    "print(x - y)\n",
    "print(x * y)\n",
    "print(x / y)\n",
    "print(x % y)  # This is weird!"
   ]
  },
  {
   "cell_type": "code",
   "execution_count": 54,
   "id": "4b866b09",
   "metadata": {},
   "outputs": [
    {
     "name": "stdout",
     "output_type": "stream",
     "text": [
      "14\n",
      "20\n"
     ]
    }
   ],
   "source": [
    "x = 2\n",
    "y = 3\n",
    "z = 4\n",
    "\n",
    "print(x + y * z)\n",
    "\n",
    "print((x + y) * z)"
   ]
  },
  {
   "cell_type": "markdown",
   "id": "6f4c530a",
   "metadata": {},
   "source": [
    "#### How do we get the square root of a number?\n",
    "- Square root is power of 1/2\n",
    "- We can raise numbers to powers!"
   ]
  },
  {
   "cell_type": "code",
   "execution_count": 9,
   "id": "707483da",
   "metadata": {},
   "outputs": [
    {
     "name": "stdout",
     "output_type": "stream",
     "text": [
      "3.0\n"
     ]
    }
   ],
   "source": [
    "x = 9\n",
    "print(x ** 0.5)"
   ]
  },
  {
   "cell_type": "markdown",
   "id": "2f2efbf3",
   "metadata": {},
   "source": [
    "#### How about the cubic root?"
   ]
  },
  {
   "cell_type": "code",
   "execution_count": 10,
   "id": "f3defeb4",
   "metadata": {},
   "outputs": [
    {
     "name": "stdout",
     "output_type": "stream",
     "text": [
      "1.9999999986137056\n"
     ]
    }
   ],
   "source": [
    "x = 8\n",
    "print(x ** 0.333333333)"
   ]
  },
  {
   "cell_type": "markdown",
   "id": "8f6e3aec",
   "metadata": {},
   "source": [
    "_But that's obviously wrong!_\n",
    "\n",
    "#### Here's how to do it!"
   ]
  },
  {
   "cell_type": "code",
   "execution_count": 11,
   "id": "928ce6fd",
   "metadata": {},
   "outputs": [
    {
     "name": "stdout",
     "output_type": "stream",
     "text": [
      "2.0\n"
     ]
    }
   ],
   "source": [
    "x = 8\n",
    "print(x ** (1 / 3))"
   ]
  },
  {
   "cell_type": "markdown",
   "id": "954698b7",
   "metadata": {},
   "source": [
    "### 1.2. String Type\n",
    "- Consists of a set of characters/symbols; usually representing text\n",
    "- Can be enclosed in double quotes `\"` or single quotes `'`; double quotes `\"` are preferred almost all the time"
   ]
  },
  {
   "cell_type": "code",
   "execution_count": 12,
   "id": "4eefc03f",
   "metadata": {},
   "outputs": [
    {
     "name": "stdout",
     "output_type": "stream",
     "text": [
      "Introduction to Python\n"
     ]
    }
   ],
   "source": [
    "s = \"Introduction to Python\"  # or s = 'Introduction to Python'\n",
    "print(s)"
   ]
  },
  {
   "cell_type": "code",
   "execution_count": 13,
   "id": "df9b7ef7",
   "metadata": {},
   "outputs": [
    {
     "name": "stdout",
     "output_type": "stream",
     "text": [
      "10\n"
     ]
    }
   ],
   "source": [
    "s = \"10\"\n",
    "print(s)"
   ]
  },
  {
   "cell_type": "code",
   "execution_count": 50,
   "id": "cee9eff0",
   "metadata": {},
   "outputs": [
    {
     "name": "stdout",
     "output_type": "stream",
     "text": [
      "t\n",
      "is a long string\n",
      "g\n"
     ]
    }
   ],
   "source": [
    "s = \"this is a long string\"\n",
    "print(s[0])\n",
    "print(s[5:])\n",
    "print(s[-1])"
   ]
  },
  {
   "cell_type": "code",
   "execution_count": 52,
   "id": "d06b6e2c",
   "metadata": {},
   "outputs": [
    {
     "name": "stdout",
     "output_type": "stream",
     "text": [
      "my name is saad\n"
     ]
    }
   ],
   "source": [
    "name = \"saad\"\n",
    "statement = \"my name is\"\n",
    "\n",
    "x = statem(ent + \" \" + name\n",
    "\n",
    "print(x)"
   ]
  },
  {
   "cell_type": "markdown",
   "id": "f75e8e18",
   "metadata": {},
   "source": [
    "### 1.3. Bool Type\n",
    "- Represents a logical value (e.g. `True`, `False`, `10 == 5`)"
   ]
  },
  {
   "cell_type": "code",
   "execution_count": 56,
   "id": "ed6a7d11",
   "metadata": {},
   "outputs": [
    {
     "name": "stdout",
     "output_type": "stream",
     "text": [
      "True\n",
      "False\n",
      "False\n"
     ]
    }
   ],
   "source": [
    "b = True\n",
    "print(b)\n",
    "\n",
    "b = False\n",
    "print(b)\n",
    "\n",
    "print(b == 10)"
   ]
  },
  {
   "cell_type": "markdown",
   "id": "c4ba2bb2",
   "metadata": {},
   "source": [
    "### 1.4. Sequence Type"
   ]
  },
  {
   "cell_type": "markdown",
   "id": "1d2653af",
   "metadata": {},
   "source": [
    "- Lists: can hold multiple values with different types"
   ]
  },
  {
   "cell_type": "code",
   "execution_count": 15,
   "id": "b050fa0d",
   "metadata": {},
   "outputs": [
    {
     "name": "stdout",
     "output_type": "stream",
     "text": [
      "[91, 85, 75, 55, 'hello', True]\n"
     ]
    }
   ],
   "source": [
    "x = [91, 85, 75, 55, \"hello\", True]\n",
    "print(x)"
   ]
  },
  {
   "cell_type": "markdown",
   "id": "dc21b3ae",
   "metadata": {},
   "source": [
    "You can change an item:"
   ]
  },
  {
   "cell_type": "code",
   "execution_count": 16,
   "id": "05df0db7",
   "metadata": {},
   "outputs": [
    {
     "name": "stdout",
     "output_type": "stream",
     "text": [
      "['my new value!!!!', 85, 75, 55, 'hello', True]\n"
     ]
    }
   ],
   "source": [
    "x[0] = \"my new value!!!!\"  # this is called an item\n",
    "print(x)"
   ]
  },
  {
   "cell_type": "code",
   "execution_count": 17,
   "id": "db4d219d",
   "metadata": {},
   "outputs": [
    {
     "name": "stdout",
     "output_type": "stream",
     "text": [
      "85\n"
     ]
    }
   ],
   "source": [
    "w = x[1]\n",
    "print(w)"
   ]
  },
  {
   "cell_type": "markdown",
   "id": "daf96de1",
   "metadata": {},
   "source": [
    "- Tuples: same as lists; they just can't be changed"
   ]
  },
  {
   "cell_type": "code",
   "execution_count": 18,
   "id": "bc86226c",
   "metadata": {
    "scrolled": true
   },
   "outputs": [
    {
     "name": "stdout",
     "output_type": "stream",
     "text": [
      "(91, 85, 75, 55, 'hello', True)\n"
     ]
    },
    {
     "ename": "TypeError",
     "evalue": "'tuple' object does not support item assignment",
     "output_type": "error",
     "traceback": [
      "\u001b[0;31m---------------------------------------------------------------------------\u001b[0m",
      "\u001b[0;31mTypeError\u001b[0m                                 Traceback (most recent call last)",
      "\u001b[0;32m/tmp/ipykernel_8191/1343575096.py\u001b[0m in \u001b[0;36m<module>\u001b[0;34m\u001b[0m\n\u001b[1;32m      2\u001b[0m \u001b[0mprint\u001b[0m\u001b[0;34m(\u001b[0m\u001b[0mx\u001b[0m\u001b[0;34m)\u001b[0m\u001b[0;34m\u001b[0m\u001b[0;34m\u001b[0m\u001b[0m\n\u001b[1;32m      3\u001b[0m \u001b[0;34m\u001b[0m\u001b[0m\n\u001b[0;32m----> 4\u001b[0;31m \u001b[0mx\u001b[0m\u001b[0;34m[\u001b[0m\u001b[0;36m0\u001b[0m\u001b[0;34m]\u001b[0m \u001b[0;34m=\u001b[0m \u001b[0;34m\"my new value\"\u001b[0m\u001b[0;34m\u001b[0m\u001b[0;34m\u001b[0m\u001b[0m\n\u001b[0m",
      "\u001b[0;31mTypeError\u001b[0m: 'tuple' object does not support item assignment"
     ]
    }
   ],
   "source": [
    "x = (91, 85, 75, 55, \"hello\", True)\n",
    "print(x)\n",
    "\n",
    "x[0] = \"my new value\""
   ]
  },
  {
   "cell_type": "code",
   "execution_count": 19,
   "id": "ee664e62",
   "metadata": {},
   "outputs": [
    {
     "name": "stdout",
     "output_type": "stream",
     "text": [
      "91\n",
      "85\n"
     ]
    }
   ],
   "source": [
    "print(x[0])\n",
    "print(x[1])"
   ]
  },
  {
   "cell_type": "markdown",
   "id": "67fc4650",
   "metadata": {},
   "source": [
    "_What if I want to do_ `x[\"Mohammad\"]` _instead of_ `x[1]`?"
   ]
  },
  {
   "cell_type": "markdown",
   "id": "72c975e2",
   "metadata": {},
   "source": [
    "### 1.5. Dictionary\n",
    "\n",
    "- A `key`-`value` store\n",
    "- Some languages call it a **map**, some call it a **hash table**\n"
   ]
  },
  {
   "cell_type": "markdown",
   "id": "a65d16dd",
   "metadata": {},
   "source": [
    "`\"Saed\"` is a key; `65.5` is its value"
   ]
  },
  {
   "cell_type": "code",
   "execution_count": 36,
   "id": "14ebbb6c",
   "metadata": {},
   "outputs": [
    {
     "name": "stdout",
     "output_type": "stream",
     "text": [
      "{'Saed': 65.5, 'Mohammad': '91', 'Ahmad': 70, 'Anas': '85', 10: True}\n"
     ]
    }
   ],
   "source": [
    "x = {\n",
    "    \"Saed\": 65.5,\n",
    "    \"Mohammad\": \"91\",\n",
    "    \"Ahmad\": 70,\n",
    "    \"Anas\": \"85\",\n",
    "    10: True,\n",
    "}\n",
    "\n",
    "print(x)"
   ]
  },
  {
   "cell_type": "code",
   "execution_count": 37,
   "id": "f8e66515",
   "metadata": {},
   "outputs": [
    {
     "name": "stdout",
     "output_type": "stream",
     "text": [
      "65.5\n"
     ]
    }
   ],
   "source": [
    "print(x[\"Saed\"])"
   ]
  },
  {
   "cell_type": "code",
   "execution_count": 42,
   "id": "350ce8ed",
   "metadata": {},
   "outputs": [
    {
     "name": "stdout",
     "output_type": "stream",
     "text": [
      "{'Saed': 65.5, 'Mohammad': '91', 'Ahmad': 70, 'Anas': '85', 10: True, 'hello': 1564}\n"
     ]
    }
   ],
   "source": [
    "x[\"hello\"] = 1564\n",
    "print(x)"
   ]
  },
  {
   "cell_type": "code",
   "execution_count": 39,
   "id": "a44214a2",
   "metadata": {},
   "outputs": [
    {
     "name": "stdout",
     "output_type": "stream",
     "text": [
      "dict_keys(['Saed', 'Mohammad', 'Ahmad', 'Anas', 10, 'hello'])\n"
     ]
    }
   ],
   "source": [
    "print(x.keys())"
   ]
  },
  {
   "cell_type": "code",
   "execution_count": 40,
   "id": "e7132a92",
   "metadata": {},
   "outputs": [
    {
     "name": "stdout",
     "output_type": "stream",
     "text": [
      "dict_values([65.5, '91', 70, '85', True, 85290178509271])\n"
     ]
    }
   ],
   "source": [
    "print(x.values())"
   ]
  },
  {
   "cell_type": "markdown",
   "id": "62907d61",
   "metadata": {},
   "source": [
    "- Anything can be a value\n",
    "\n",
    "- _Almost_ anything can be a key"
   ]
  },
  {
   "cell_type": "markdown",
   "id": "ac56f48a",
   "metadata": {},
   "source": [
    "## 2. Flow Control"
   ]
  },
  {
   "cell_type": "markdown",
   "id": "659d10d3",
   "metadata": {},
   "source": [
    "### 2.1. If-else if-else\n",
    "\n",
    "You give it a condition; it gets evaluated to a boolean (True or False), based on the result we choose our path"
   ]
  },
  {
   "cell_type": "code",
   "execution_count": 24,
   "id": "b19018cc",
   "metadata": {},
   "outputs": [
    {
     "name": "stdout",
     "output_type": "stream",
     "text": [
      "ONE\n"
     ]
    }
   ],
   "source": [
    "if 10 < 15:\n",
    "    print(\"ONE\")\n",
    "else:\n",
    "    print(\"TWO\")"
   ]
  },
  {
   "cell_type": "code",
   "execution_count": 25,
   "id": "7384d370",
   "metadata": {},
   "outputs": [
    {
     "name": "stdout",
     "output_type": "stream",
     "text": [
      "FOUR\n"
     ]
    }
   ],
   "source": [
    "if 25 > 30:\n",
    "    print(\"THREE\")\n",
    "else:\n",
    "    print(\"FOUR\")"
   ]
  },
  {
   "cell_type": "code",
   "execution_count": 26,
   "id": "7cfec497",
   "metadata": {},
   "outputs": [],
   "source": [
    "if 25 == 30:\n",
    "    print(\"HERE\")\n",
    "elif 25 > 30:\n",
    "    print(\"NOT HERE\")"
   ]
  },
  {
   "cell_type": "code",
   "execution_count": 27,
   "id": "8a414283",
   "metadata": {},
   "outputs": [
    {
     "name": "stdout",
     "output_type": "stream",
     "text": [
      "FIVE\n"
     ]
    }
   ],
   "source": [
    "x = 16\n",
    "\n",
    "if x != 30:\n",
    "    print(\"FIVE\")\n",
    "else:\n",
    "    print(\"SIX\")"
   ]
  },
  {
   "cell_type": "code",
   "execution_count": 28,
   "id": "ee4b1f4e",
   "metadata": {},
   "outputs": [
    {
     "name": "stdout",
     "output_type": "stream",
     "text": [
      "Not A\n"
     ]
    }
   ],
   "source": [
    "x = 81\n",
    "\n",
    "if 100 > x >= 90:\n",
    "    print(\"A\")\n",
    "else:\n",
    "    print(\"Not A\")"
   ]
  },
  {
   "cell_type": "markdown",
   "id": "d0058de9",
   "metadata": {},
   "source": [
    "### 2.2. Loops / Repitition\n",
    "\n",
    "Python has two types of loops; `for` and `while` loops"
   ]
  },
  {
   "cell_type": "markdown",
   "id": "fb626dc6",
   "metadata": {},
   "source": [
    "You can loop over a list!"
   ]
  },
  {
   "cell_type": "code",
   "execution_count": 34,
   "id": "5b45cf3a",
   "metadata": {},
   "outputs": [
    {
     "name": "stdout",
     "output_type": "stream",
     "text": [
      "88\n",
      "77\n",
      "79\n",
      "95\n",
      "90\n"
     ]
    }
   ],
   "source": [
    "grades = [88, 77, 79, 95, 90]\n",
    "\n",
    "for i in grades:\n",
    "    print(i)"
   ]
  },
  {
   "cell_type": "markdown",
   "id": "154731c6",
   "metadata": {},
   "source": [
    "You can loop over a dictionary"
   ]
  },
  {
   "cell_type": "code",
   "execution_count": 30,
   "id": "f3ffadfa",
   "metadata": {},
   "outputs": [
    {
     "name": "stdout",
     "output_type": "stream",
     "text": [
      "Saed\n",
      "Mohammad\n",
      "Ahmad\n",
      "Anas\n"
     ]
    }
   ],
   "source": [
    "grades = {\n",
    "    \"Saed\": 65.5,\n",
    "    \"Mohammad\": 91,\n",
    "    \"Ahmad\": 70,\n",
    "    \"Anas\": 85,\n",
    "}\n",
    "\n",
    "for i in grades:\n",
    "    print(i)"
   ]
  },
  {
   "cell_type": "code",
   "execution_count": 31,
   "id": "b6917760",
   "metadata": {},
   "outputs": [
    {
     "name": "stdout",
     "output_type": "stream",
     "text": [
      "Saed 65.5\n",
      "Mohammad 91\n",
      "Ahmad 70\n",
      "Anas 85\n"
     ]
    }
   ],
   "source": [
    "for i in grades:\n",
    "    print(i, grades[i])"
   ]
  },
  {
   "cell_type": "markdown",
   "id": "1ec627b2",
   "metadata": {},
   "source": [
    "#### I just want to loop for 10 times!"
   ]
  },
  {
   "cell_type": "code",
   "execution_count": 32,
   "id": "262a95a1",
   "metadata": {},
   "outputs": [
    {
     "name": "stdout",
     "output_type": "stream",
     "text": [
      "0\n",
      "1\n",
      "2\n",
      "3\n",
      "4\n",
      "5\n",
      "6\n",
      "7\n",
      "8\n",
      "9\n"
     ]
    }
   ],
   "source": [
    "k = 10\n",
    "\n",
    "for i in range(k):\n",
    "    print(i)"
   ]
  },
  {
   "cell_type": "markdown",
   "id": "84d7a4e5",
   "metadata": {},
   "source": [
    "#### Or you can use a while loop for that"
   ]
  },
  {
   "cell_type": "code",
   "execution_count": 33,
   "id": "72432200",
   "metadata": {},
   "outputs": [
    {
     "name": "stdout",
     "output_type": "stream",
     "text": [
      "0\n",
      "1\n",
      "2\n",
      "3\n",
      "4\n",
      "5\n",
      "6\n",
      "7\n",
      "8\n",
      "9\n"
     ]
    }
   ],
   "source": [
    "k = 10\n",
    "i = 0\n",
    "\n",
    "while i < k:\n",
    "    print(i)\n",
    "    i = i + 1"
   ]
  },
  {
   "cell_type": "markdown",
   "id": "beae0335",
   "metadata": {},
   "source": [
    "## 3. Reading user input"
   ]
  },
  {
   "cell_type": "code",
   "execution_count": 47,
   "id": "7aaa6d5e",
   "metadata": {},
   "outputs": [
    {
     "name": "stdout",
     "output_type": "stream",
     "text": [
      "Enter a number: 22\n",
      "The user entered 22\n"
     ]
    }
   ],
   "source": [
    "a = input(\"Enter a number: \")\n",
    "print(\"The user entered\", a)"
   ]
  },
  {
   "cell_type": "markdown",
   "id": "1fbd3694",
   "metadata": {},
   "source": [
    "Let's add `10` to it!"
   ]
  },
  {
   "cell_type": "code",
   "execution_count": 57,
   "id": "08bac11d",
   "metadata": {},
   "outputs": [
    {
     "ename": "TypeError",
     "evalue": "can only concatenate str (not \"int\") to str",
     "output_type": "error",
     "traceback": [
      "\u001b[0;31m---------------------------------------------------------------------------\u001b[0m",
      "\u001b[0;31mTypeError\u001b[0m                                 Traceback (most recent call last)",
      "\u001b[0;32m/tmp/ipykernel_8191/4096688.py\u001b[0m in \u001b[0;36m<module>\u001b[0;34m\u001b[0m\n\u001b[0;32m----> 1\u001b[0;31m \u001b[0ma\u001b[0m \u001b[0;34m+\u001b[0m \u001b[0;36m10\u001b[0m\u001b[0;34m\u001b[0m\u001b[0;34m\u001b[0m\u001b[0m\n\u001b[0m",
      "\u001b[0;31mTypeError\u001b[0m: can only concatenate str (not \"int\") to str"
     ]
    }
   ],
   "source": [
    "a + 10"
   ]
  },
  {
   "cell_type": "markdown",
   "id": "0ff1fbe5",
   "metadata": {},
   "source": [
    "#### Everything you read from the user is a string"
   ]
  },
  {
   "cell_type": "code",
   "execution_count": 58,
   "id": "71c7dbbe",
   "metadata": {},
   "outputs": [
    {
     "name": "stdout",
     "output_type": "stream",
     "text": [
      "<class 'str'>\n"
     ]
    }
   ],
   "source": [
    "print(type(a))"
   ]
  },
  {
   "cell_type": "markdown",
   "id": "62e1777d",
   "metadata": {},
   "source": [
    "We should first change it an int"
   ]
  },
  {
   "cell_type": "code",
   "execution_count": 66,
   "id": "6c5d72ac",
   "metadata": {},
   "outputs": [],
   "source": [
    "new_a = int(a) # you can also try float(a)"
   ]
  },
  {
   "cell_type": "code",
   "execution_count": 67,
   "id": "a6ce0cb9",
   "metadata": {},
   "outputs": [
    {
     "name": "stdout",
     "output_type": "stream",
     "text": [
      "<class 'int'>\n"
     ]
    }
   ],
   "source": [
    "print(type(new_a))"
   ]
  },
  {
   "cell_type": "code",
   "execution_count": 68,
   "id": "47760e0e",
   "metadata": {},
   "outputs": [
    {
     "name": "stdout",
     "output_type": "stream",
     "text": [
      "20\n"
     ]
    }
   ],
   "source": [
    "print(new_a + 10)"
   ]
  },
  {
   "cell_type": "markdown",
   "id": "4102db14",
   "metadata": {},
   "source": [
    "## 4. Functions"
   ]
  },
  {
   "cell_type": "markdown",
   "id": "b23313f9",
   "metadata": {},
   "source": [
    "Let's say we want to get the average grade in an exam!\n",
    "\n",
    "We get the sum, then we divide by the number of students."
   ]
  },
  {
   "cell_type": "code",
   "execution_count": 4,
   "id": "559150b0",
   "metadata": {},
   "outputs": [
    {
     "name": "stdout",
     "output_type": "stream",
     "text": [
      "7.0\n"
     ]
    }
   ],
   "source": [
    "grades = [10,5,7,9,5,6]\n",
    "\n",
    "counter = 0\n",
    "total = 0\n",
    "\n",
    "for i in grades:\n",
    "    total = total + i\n",
    "    counter = counter + 1\n",
    "    \n",
    "print(total/counter)"
   ]
  },
  {
   "cell_type": "markdown",
   "id": "6f5f5a3d",
   "metadata": {},
   "source": [
    "#### What if we have multiple exams and we don't want to keep repeating the code?"
   ]
  },
  {
   "cell_type": "code",
   "execution_count": 5,
   "id": "172cb0af",
   "metadata": {},
   "outputs": [],
   "source": [
    "def average(grades):\n",
    "    counter = 0\n",
    "    total = 0\n",
    "\n",
    "    for i in grades:\n",
    "        total = total + i\n",
    "        counter = counter + 1\n",
    "        \n",
    "    avg = total / counter\n",
    "    \n",
    "    return avg"
   ]
  },
  {
   "cell_type": "markdown",
   "id": "9e0c7e06",
   "metadata": {},
   "source": [
    "and then we just call it!"
   ]
  },
  {
   "cell_type": "code",
   "execution_count": 6,
   "id": "d38e3f30",
   "metadata": {},
   "outputs": [
    {
     "name": "stdout",
     "output_type": "stream",
     "text": [
      "7.0\n"
     ]
    }
   ],
   "source": [
    "grades = [10,5,7,9,5,6]\n",
    "avg = average(grades)\n",
    "print(avg)"
   ]
  },
  {
   "cell_type": "code",
   "execution_count": 7,
   "id": "f7fbb971",
   "metadata": {},
   "outputs": [
    {
     "name": "stdout",
     "output_type": "stream",
     "text": [
      "6.318181818181818\n"
     ]
    }
   ],
   "source": [
    "grades = [10, 5, 10, 3, 5, 3, 6.5, 7, 9, 5, 6]\n",
    "avg = average(grades)\n",
    "print(avg)"
   ]
  },
  {
   "cell_type": "markdown",
   "id": "a0ff1331",
   "metadata": {},
   "source": [
    "A function can return a value (like `avg`) but it doesn't have to"
   ]
  },
  {
   "cell_type": "code",
   "execution_count": 10,
   "id": "d0b493fc",
   "metadata": {},
   "outputs": [],
   "source": [
    "def greeting(name):\n",
    "    \"\"\"This function greets\n",
    "    :name: str: \n",
    "    \"\"\"\n",
    "    print(\"hello,\", name)"
   ]
  },
  {
   "cell_type": "code",
   "execution_count": 11,
   "id": "3ffdd5f5",
   "metadata": {},
   "outputs": [
    {
     "name": "stdout",
     "output_type": "stream",
     "text": [
      "hello, students\n"
     ]
    }
   ],
   "source": [
    "greeting(\"students\")"
   ]
  },
  {
   "cell_type": "code",
   "execution_count": 14,
   "id": "035f82e5",
   "metadata": {
    "scrolled": true
   },
   "outputs": [
    {
     "name": "stdout",
     "output_type": "stream",
     "text": [
      "hello, GDSC\n"
     ]
    }
   ],
   "source": [
    "hello(\"GDSC\")"
   ]
  },
  {
   "cell_type": "markdown",
   "id": "26fbd0b9",
   "metadata": {},
   "source": [
    "## 5. Modules\n",
    "\n",
    "You're not always going to write everything from scratch.\n",
    "\n",
    "Also, python has a lot of open-source libraries that you can just download and use, almost for anything you can think of!"
   ]
  },
  {
   "cell_type": "markdown",
   "id": "493f3f3d",
   "metadata": {},
   "source": [
    "You use `import` to load code from other modules or libraries:\n",
    "\n",
    "```python\n",
    "import matplotlib.pyplot\n",
    "\n",
    "matplotlib.pyplot.plot(...)\n",
    "```\n",
    "\n",
    "\n",
    "you can use `as` to shortcut/alias the usage:\n",
    "```python\n",
    "import matplotlib.pyplot as abc\n",
    "\n",
    "abc.plot(...)\n",
    "```"
   ]
  },
  {
   "cell_type": "code",
   "execution_count": null,
   "id": "f2f131d1",
   "metadata": {},
   "outputs": [],
   "source": []
  }
 ],
 "metadata": {
  "kernelspec": {
   "display_name": "dev1",
   "language": "python",
   "name": "dev1"
  },
  "language_info": {
   "codemirror_mode": {
    "name": "ipython",
    "version": 3
   },
   "file_extension": ".py",
   "mimetype": "text/x-python",
   "name": "python",
   "nbconvert_exporter": "python",
   "pygments_lexer": "ipython3",
   "version": "3.8.12"
  }
 },
 "nbformat": 4,
 "nbformat_minor": 5
}
