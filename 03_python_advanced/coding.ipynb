{
 "cells": [
  {
   "cell_type": "markdown",
   "id": "52745cf2",
   "metadata": {},
   "source": [
    "# Introduction to Python #2: Python's Data Model"
   ]
  },
  {
   "cell_type": "markdown",
   "id": "3b5f26c3",
   "metadata": {},
   "source": [
    "## Disclaimer!\n",
    "\n",
    "- I recommend you train in Jupyter Notebooks (like this presentation). But when you want to share your work, publish it, or if you're working in a company, notebooks are not usually the way to go.\n",
    "    - Get familiar to the terminal and to writing in `.py` files (just like you do with C++ `.cpp` files or Javascript `.js` files).\n",
    "\n",
    "- Also, get familiar with Linux. It's much easier to develop and write code on Linux, much easier to use the terminal, you just have to start.\n",
    "\n",
    "First-year student? Second-year student? Last-year student? Your life will be better with linux and I promise it's easy. Also, it's something employers ask for!"
   ]
  },
  {
   "cell_type": "code",
   "execution_count": 205,
   "id": "7933478e",
   "metadata": {},
   "outputs": [],
   "source": [
    "def superscript(n):\n",
    "    return \"\".join([\"⁰¹²³⁴⁵⁶⁷⁸⁹\"[ord(c) - ord(\"0\")] for c in str(n)])"
   ]
  },
  {
   "cell_type": "code",
   "execution_count": 8,
   "id": "e637b90d",
   "metadata": {},
   "outputs": [],
   "source": [
    "import numpy as np"
   ]
  },
  {
   "cell_type": "code",
   "execution_count": 9,
   "id": "e201759c",
   "metadata": {},
   "outputs": [
    {
     "name": "stdout",
     "output_type": "stream",
     "text": [
      "[1 2 3]\n"
     ]
    }
   ],
   "source": [
    "arr = np.array([1, 2, 3])\n",
    "print(arr)"
   ]
  },
  {
   "cell_type": "code",
   "execution_count": 242,
   "id": "c4ca00b1",
   "metadata": {},
   "outputs": [
    {
     "name": "stdout",
     "output_type": "stream",
     "text": [
      "[1, 2, 3, 19]\n"
     ]
    }
   ],
   "source": [
    "lst = [1,2,3]\n",
    "lst.append(19)\n",
    "print(lst)"
   ]
  },
  {
   "cell_type": "markdown",
   "id": "2144419a",
   "metadata": {},
   "source": [
    "- So, what is `np`? It's a **module**; we explained that in the previous talk!\n",
    "\n",
    "- What's `array` in `np.array(...)`? It's a **class** (can loosly be called a **type**).\n",
    "    - A **class** is a **_template_** that represents a **type** which consists of **properties** and their **functionality**\n",
    "\n",
    "- What's `arr`? It's an **object**\n",
    "    - An **object** is an instance of that class. For example, **human** is a **class**, **Saad** is an instance of that or a human **object**."
   ]
  },
  {
   "cell_type": "markdown",
   "id": "af09b332",
   "metadata": {},
   "source": [
    "You can get the type/class of an object/instance by passing it to the `type(...)` function!\n",
    "\n",
    "You can use `isinstance` to check if an object is of a certain type!\n",
    "\n",
    "Let's check the type/class for built-in types:"
   ]
  },
  {
   "cell_type": "code",
   "execution_count": 19,
   "id": "375b294e",
   "metadata": {},
   "outputs": [
    {
     "data": {
      "text/plain": [
       "int"
      ]
     },
     "execution_count": 19,
     "metadata": {},
     "output_type": "execute_result"
    }
   ],
   "source": [
    "type(1)"
   ]
  },
  {
   "cell_type": "code",
   "execution_count": 20,
   "id": "6fb66b0a",
   "metadata": {},
   "outputs": [
    {
     "data": {
      "text/plain": [
       "str"
      ]
     },
     "execution_count": 20,
     "metadata": {},
     "output_type": "execute_result"
    }
   ],
   "source": [
    "type(\"hello\")"
   ]
  },
  {
   "cell_type": "code",
   "execution_count": 21,
   "id": "3b6f3507",
   "metadata": {},
   "outputs": [
    {
     "data": {
      "text/plain": [
       "float"
      ]
     },
     "execution_count": 21,
     "metadata": {},
     "output_type": "execute_result"
    }
   ],
   "source": [
    "type(1.5)"
   ]
  },
  {
   "cell_type": "code",
   "execution_count": 164,
   "id": "7ed553e7",
   "metadata": {},
   "outputs": [
    {
     "data": {
      "text/plain": [
       "True"
      ]
     },
     "execution_count": 164,
     "metadata": {},
     "output_type": "execute_result"
    }
   ],
   "source": [
    "isinstance(1, int)"
   ]
  },
  {
   "cell_type": "code",
   "execution_count": 165,
   "id": "9f80c944",
   "metadata": {},
   "outputs": [
    {
     "data": {
      "text/plain": [
       "False"
      ]
     },
     "execution_count": 165,
     "metadata": {},
     "output_type": "execute_result"
    }
   ],
   "source": [
    "isinstance(1.5, int)"
   ]
  },
  {
   "cell_type": "code",
   "execution_count": 166,
   "id": "40d99522",
   "metadata": {},
   "outputs": [
    {
     "data": {
      "text/plain": [
       "True"
      ]
     },
     "execution_count": 166,
     "metadata": {},
     "output_type": "execute_result"
    }
   ],
   "source": [
    "isinstance(1.5, float)"
   ]
  },
  {
   "cell_type": "code",
   "execution_count": 167,
   "id": "7a0e00ba",
   "metadata": {},
   "outputs": [
    {
     "data": {
      "text/plain": [
       "True"
      ]
     },
     "execution_count": 167,
     "metadata": {},
     "output_type": "execute_result"
    }
   ],
   "source": [
    "isinstance(\"1\", str)"
   ]
  },
  {
   "cell_type": "code",
   "execution_count": 43,
   "id": "5be719a0",
   "metadata": {},
   "outputs": [
    {
     "name": "stdout",
     "output_type": "stream",
     "text": [
      "[5 7 9]\n"
     ]
    }
   ],
   "source": [
    "arr1 = np.array([1, 2, 3])\n",
    "arr2 = np.array([4, 5, 6])\n",
    "\n",
    "print(arr1 + arr2)"
   ]
  },
  {
   "cell_type": "code",
   "execution_count": 263,
   "id": "c2f58e90",
   "metadata": {},
   "outputs": [
    {
     "data": {
      "text/plain": [
       "3"
      ]
     },
     "execution_count": 263,
     "metadata": {},
     "output_type": "execute_result"
    }
   ],
   "source": [
    "len(arr1)"
   ]
  },
  {
   "cell_type": "code",
   "execution_count": 264,
   "id": "765f4c49",
   "metadata": {},
   "outputs": [
    {
     "data": {
      "text/plain": [
       "1"
      ]
     },
     "execution_count": 264,
     "metadata": {},
     "output_type": "execute_result"
    }
   ],
   "source": [
    "arr[0]"
   ]
  },
  {
   "cell_type": "markdown",
   "id": "4501da99",
   "metadata": {},
   "source": [
    "So, how do you create your own type/class?"
   ]
  },
  {
   "cell_type": "code",
   "execution_count": 39,
   "id": "dfa9fd05",
   "metadata": {},
   "outputs": [],
   "source": [
    "class MyType:\n",
    "    pass"
   ]
  },
  {
   "cell_type": "markdown",
   "id": "5ebd574b",
   "metadata": {},
   "source": [
    "How do we create objects of it?"
   ]
  },
  {
   "cell_type": "code",
   "execution_count": 40,
   "id": "fa0f083a",
   "metadata": {},
   "outputs": [],
   "source": [
    "x = MyType()"
   ]
  },
  {
   "cell_type": "code",
   "execution_count": 41,
   "id": "3e9ad784",
   "metadata": {},
   "outputs": [
    {
     "name": "stdout",
     "output_type": "stream",
     "text": [
      "<__main__.MyType object at 0x7fc0dc1a7990>\n"
     ]
    }
   ],
   "source": [
    "print(x)"
   ]
  },
  {
   "cell_type": "code",
   "execution_count": 42,
   "id": "f6f60f8c",
   "metadata": {},
   "outputs": [
    {
     "data": {
      "text/plain": [
       "__main__.MyType"
      ]
     },
     "execution_count": 42,
     "metadata": {},
     "output_type": "execute_result"
    }
   ],
   "source": [
    "type(x)"
   ]
  },
  {
   "cell_type": "markdown",
   "id": "09f520bc",
   "metadata": {},
   "source": [
    "What happens when you we execute `MyType()`?\n",
    "\n",
    "It looks for a method called `__init__` under `MyType`\n",
    "\n",
    "In this case we don't have one; let's create it!"
   ]
  },
  {
   "cell_type": "markdown",
   "id": "9ecb5c85",
   "metadata": {},
   "source": [
    "## Build a Polynomial Class\n",
    "We want to represent a polynomial like **_ax<sup>2</sup>+bx+c_** or **_ax<sup>3</sup>+bx<sup>2</sup>+cx+d_**"
   ]
  },
  {
   "cell_type": "code",
   "execution_count": 186,
   "id": "e690d486",
   "metadata": {},
   "outputs": [],
   "source": [
    "class Polynomial:\n",
    "    def __init__(self, coefs):\n",
    "        self.coefs = coefs"
   ]
  },
  {
   "cell_type": "code",
   "execution_count": 188,
   "id": "c3a67274",
   "metadata": {},
   "outputs": [
    {
     "ename": "TypeError",
     "evalue": "__init__() missing 1 required positional argument: 'coefs'",
     "output_type": "error",
     "traceback": [
      "\u001b[0;31m---------------------------------------------------------------------------\u001b[0m",
      "\u001b[0;31mTypeError\u001b[0m                                 Traceback (most recent call last)",
      "\u001b[0;32m/tmp/ipykernel_18286/3125163893.py\u001b[0m in \u001b[0;36m<module>\u001b[0;34m\u001b[0m\n\u001b[0;32m----> 1\u001b[0;31m \u001b[0mx\u001b[0m \u001b[0;34m=\u001b[0m \u001b[0mPolynomial\u001b[0m\u001b[0;34m(\u001b[0m\u001b[0;34m)\u001b[0m\u001b[0;34m\u001b[0m\u001b[0;34m\u001b[0m\u001b[0m\n\u001b[0m",
      "\u001b[0;31mTypeError\u001b[0m: __init__() missing 1 required positional argument: 'coefs'"
     ]
    }
   ],
   "source": [
    "x = Polynomial()"
   ]
  },
  {
   "cell_type": "code",
   "execution_count": 223,
   "id": "68e547b2",
   "metadata": {},
   "outputs": [],
   "source": [
    "x = Polynomial([5, 2, 3])  # 3.x² + 2x + 5"
   ]
  },
  {
   "cell_type": "code",
   "execution_count": 224,
   "id": "45e08ab3",
   "metadata": {},
   "outputs": [
    {
     "name": "stdout",
     "output_type": "stream",
     "text": [
      "[5, 2, 3]\n"
     ]
    }
   ],
   "source": [
    "print(x.coefs)"
   ]
  },
  {
   "cell_type": "code",
   "execution_count": 225,
   "id": "937370db",
   "metadata": {},
   "outputs": [
    {
     "name": "stdout",
     "output_type": "stream",
     "text": [
      "+5x⁰+2x¹+3x²\n"
     ]
    }
   ],
   "source": [
    "print(x)"
   ]
  },
  {
   "cell_type": "code",
   "execution_count": 229,
   "id": "66065db8",
   "metadata": {},
   "outputs": [],
   "source": [
    "class Polynomial:\n",
    "    def __init__(self, coefs):\n",
    "        self.coefs = coefs\n",
    "\n",
    "    def __str__(self):\n",
    "        s = \"\"\n",
    "        degree = len(self.coefs)\n",
    "        for index, c in enumerate(self.coefs):\n",
    "            if c != 0:\n",
    "                term_degree = superscript(index)\n",
    "                is_positive = c > 0\n",
    "                term = f\"{c}x{term_degree}\"\n",
    "\n",
    "                if is_positive:\n",
    "                    s = \"+\" + term + s\n",
    "                else:\n",
    "                    s = term + s\n",
    "        return s"
   ]
  },
  {
   "cell_type": "code",
   "execution_count": 230,
   "id": "2648020f",
   "metadata": {},
   "outputs": [],
   "source": [
    "x = Polynomial([5, 2, 3])"
   ]
  },
  {
   "cell_type": "code",
   "execution_count": 231,
   "id": "fccc5295",
   "metadata": {},
   "outputs": [
    {
     "name": "stdout",
     "output_type": "stream",
     "text": [
      "+3x²+2x¹+5x⁰\n"
     ]
    }
   ],
   "source": [
    "print(x)"
   ]
  },
  {
   "cell_type": "code",
   "execution_count": 234,
   "id": "f6a80080",
   "metadata": {},
   "outputs": [],
   "source": [
    "y = Polynomial([2, 3, 1])"
   ]
  },
  {
   "cell_type": "code",
   "execution_count": 235,
   "id": "6dd604cb",
   "metadata": {},
   "outputs": [
    {
     "name": "stdout",
     "output_type": "stream",
     "text": [
      "+1x²+3x¹+2x⁰\n"
     ]
    }
   ],
   "source": [
    "print(y)"
   ]
  },
  {
   "cell_type": "markdown",
   "id": "f49aeab2",
   "metadata": {},
   "source": [
    "What is the degree of `x` or `y`?"
   ]
  },
  {
   "cell_type": "code",
   "execution_count": 239,
   "id": "16a9f93c",
   "metadata": {},
   "outputs": [
    {
     "data": {
      "text/plain": [
       "3"
      ]
     },
     "execution_count": 239,
     "metadata": {},
     "output_type": "execute_result"
    }
   ],
   "source": [
    "len([1,2,3])"
   ]
  },
  {
   "cell_type": "markdown",
   "id": "e93d917f",
   "metadata": {},
   "source": [
    "Can we assume the same logic for a polynomial?"
   ]
  },
  {
   "cell_type": "code",
   "execution_count": 240,
   "id": "28503116",
   "metadata": {},
   "outputs": [
    {
     "ename": "TypeError",
     "evalue": "object of type 'Polynomial' has no len()",
     "output_type": "error",
     "traceback": [
      "\u001b[0;31m---------------------------------------------------------------------------\u001b[0m",
      "\u001b[0;31mTypeError\u001b[0m                                 Traceback (most recent call last)",
      "\u001b[0;32m/tmp/ipykernel_18286/619855596.py\u001b[0m in \u001b[0;36m<module>\u001b[0;34m\u001b[0m\n\u001b[0;32m----> 1\u001b[0;31m \u001b[0mlen\u001b[0m\u001b[0;34m(\u001b[0m\u001b[0mx\u001b[0m\u001b[0;34m)\u001b[0m\u001b[0;34m\u001b[0m\u001b[0;34m\u001b[0m\u001b[0m\n\u001b[0m",
      "\u001b[0;31mTypeError\u001b[0m: object of type 'Polynomial' has no len()"
     ]
    }
   ],
   "source": [
    "len(x)"
   ]
  },
  {
   "cell_type": "code",
   "execution_count": 267,
   "id": "e0cba90f",
   "metadata": {},
   "outputs": [],
   "source": [
    "class Polynomial:\n",
    "    def __init__(self, coefs):\n",
    "        self.coefs = coefs\n",
    "\n",
    "    def __str__(self):\n",
    "        s = \"\"\n",
    "        degree = len(self.coefs)\n",
    "        for index, c in enumerate(self.coefs):\n",
    "            if c != 0:\n",
    "                term_degree = superscript(index)\n",
    "                is_positive = c > 0\n",
    "                term = f\"{c}x{term_degree}\"\n",
    "\n",
    "                if is_positive:\n",
    "                    s = \"+\" + term + s\n",
    "                else:\n",
    "                    s = term + s\n",
    "        return s\n",
    "    \n",
    "    def __len__(self):\n",
    "        return len(self.coefs)"
   ]
  },
  {
   "cell_type": "code",
   "execution_count": 268,
   "id": "6a8f6a95",
   "metadata": {},
   "outputs": [
    {
     "name": "stdout",
     "output_type": "stream",
     "text": [
      "3\n"
     ]
    }
   ],
   "source": [
    "x = Polynomial([5, 2, 3])\n",
    "print(len(x))"
   ]
  },
  {
   "cell_type": "code",
   "execution_count": 269,
   "id": "8f766193",
   "metadata": {},
   "outputs": [],
   "source": [
    "fn1 = Polynomial([5, 2, 3])\n",
    "fn2 = Polynomial([2, 3, 1])"
   ]
  },
  {
   "cell_type": "code",
   "execution_count": 270,
   "id": "0032e737",
   "metadata": {},
   "outputs": [
    {
     "ename": "TypeError",
     "evalue": "unsupported operand type(s) for +: 'Polynomial' and 'Polynomial'",
     "output_type": "error",
     "traceback": [
      "\u001b[0;31m---------------------------------------------------------------------------\u001b[0m",
      "\u001b[0;31mTypeError\u001b[0m                                 Traceback (most recent call last)",
      "\u001b[0;32m/tmp/ipykernel_18286/3053780444.py\u001b[0m in \u001b[0;36m<module>\u001b[0;34m\u001b[0m\n\u001b[0;32m----> 1\u001b[0;31m \u001b[0mfn3\u001b[0m \u001b[0;34m=\u001b[0m \u001b[0mfn1\u001b[0m \u001b[0;34m+\u001b[0m \u001b[0mfn2\u001b[0m\u001b[0;34m\u001b[0m\u001b[0;34m\u001b[0m\u001b[0m\n\u001b[0m",
      "\u001b[0;31mTypeError\u001b[0m: unsupported operand type(s) for +: 'Polynomial' and 'Polynomial'"
     ]
    }
   ],
   "source": [
    "fn3 = fn1 + fn2"
   ]
  },
  {
   "cell_type": "code",
   "execution_count": 271,
   "id": "48004331",
   "metadata": {},
   "outputs": [],
   "source": [
    "class Polynomial:\n",
    "    def __init__(self, coefs):\n",
    "        self.coefs = coefs\n",
    "\n",
    "    def __str__(self):\n",
    "        s = \"\"\n",
    "        degree = len(self.coefs)\n",
    "        for index, c in enumerate(self.coefs):\n",
    "            if c != 0:\n",
    "                term_degree = superscript(index)\n",
    "                is_positive = c > 0\n",
    "                term = f\"{c}x{term_degree}\"\n",
    "\n",
    "                if is_positive:\n",
    "                    s = \"+\" + term + s\n",
    "                else:\n",
    "                    s = term + s\n",
    "        return s\n",
    "\n",
    "    def __len__(self):\n",
    "        return len(self.coefs)\n",
    "\n",
    "    def __add__(self, other):\n",
    "        new_coefs = []\n",
    "        minimum = min(len(self), len(other))\n",
    "        maximum = max(len(self), len(other))\n",
    "\n",
    "        for i in range(minimum):\n",
    "            new_coefs.append(self.coefs[i] + other.coefs[i])\n",
    "\n",
    "        for i in range(minimum, maximum):\n",
    "            if len(self) == maximum:\n",
    "                new_coefs.append(self.coefs[i])\n",
    "            else:\n",
    "                new_coefs.append(other.coefs[i])\n",
    "\n",
    "        return Polynomial(new_coefs)"
   ]
  },
  {
   "cell_type": "code",
   "execution_count": 274,
   "id": "8de30759",
   "metadata": {},
   "outputs": [],
   "source": [
    "fn1 = Polynomial([5, 2, 3])\n",
    "fn2 = Polynomial([2, 3, 1])\n",
    "fn3 = fn1 + fn2"
   ]
  },
  {
   "cell_type": "code",
   "execution_count": 275,
   "id": "e700c833",
   "metadata": {},
   "outputs": [
    {
     "name": "stdout",
     "output_type": "stream",
     "text": [
      "  +3x²+2x¹+5x⁰\n",
      "+ +1x²+3x¹+2x⁰\n",
      "--------------\n",
      "= +4x²+5x¹+7x⁰\n"
     ]
    }
   ],
   "source": [
    "print(\" \", fn1)\n",
    "print(\"+\", fn2)\n",
    "print(\"--------------\")\n",
    "print(\"=\", fn3)"
   ]
  },
  {
   "cell_type": "code",
   "execution_count": 276,
   "id": "b44b5566",
   "metadata": {},
   "outputs": [
    {
     "ename": "TypeError",
     "evalue": "unsupported operand type(s) for -: 'Polynomial' and 'Polynomial'",
     "output_type": "error",
     "traceback": [
      "\u001b[0;31m---------------------------------------------------------------------------\u001b[0m",
      "\u001b[0;31mTypeError\u001b[0m                                 Traceback (most recent call last)",
      "\u001b[0;32m/tmp/ipykernel_18286/3135698797.py\u001b[0m in \u001b[0;36m<module>\u001b[0;34m\u001b[0m\n\u001b[0;32m----> 1\u001b[0;31m \u001b[0mfn3\u001b[0m \u001b[0;34m=\u001b[0m \u001b[0mfn1\u001b[0m \u001b[0;34m-\u001b[0m \u001b[0mfn2\u001b[0m\u001b[0;34m\u001b[0m\u001b[0;34m\u001b[0m\u001b[0m\n\u001b[0m",
      "\u001b[0;31mTypeError\u001b[0m: unsupported operand type(s) for -: 'Polynomial' and 'Polynomial'"
     ]
    }
   ],
   "source": [
    "fn3 = fn1 - fn2"
   ]
  },
  {
   "cell_type": "code",
   "execution_count": 286,
   "id": "08dbb599",
   "metadata": {},
   "outputs": [],
   "source": [
    "class Polynomial:\n",
    "    def __init__(self, coefs):\n",
    "        self.coefs = coefs\n",
    "\n",
    "    def __str__(self):\n",
    "        s = \"\"\n",
    "        degree = len(self.coefs)\n",
    "        for index, c in enumerate(self.coefs):\n",
    "            if c != 0:\n",
    "                term_degree = superscript(index)\n",
    "                is_positive = c > 0\n",
    "                term = f\"{c}x{term_degree}\"\n",
    "\n",
    "                if is_positive:\n",
    "                    s = \"+\" + term + s\n",
    "                else:\n",
    "                    s = term + s\n",
    "        return s\n",
    "\n",
    "    def __len__(self):\n",
    "        return len(self.coefs)\n",
    "\n",
    "    def __add__(self, other):\n",
    "        new_coefs = []\n",
    "        minimum = min(len(self), len(other))\n",
    "        maximum = max(len(self), len(other))\n",
    "\n",
    "        for i in range(minimum):\n",
    "            new_coefs.append(self.coefs[i] + other.coefs[i])\n",
    "\n",
    "        for i in range(minimum, maximum):\n",
    "            if len(self) == maximum:\n",
    "                new_coefs.append(self.coefs[i])\n",
    "            else:\n",
    "                new_coefs.append(other.coefs[i])\n",
    "\n",
    "        return Polynomial(new_coefs)\n",
    "\n",
    "    def __sub__(self, other):\n",
    "        new_coefs = []\n",
    "        minimum = min(len(self), len(other))\n",
    "        maximum = max(len(self), len(other))\n",
    "\n",
    "        for i in range(minimum):\n",
    "            new_coefs.append(self.coefs[i] - other.coefs[i])\n",
    "\n",
    "        for i in range(minimum, maximum):\n",
    "            if len(self) == maximum:\n",
    "                new_coefs.append(self.coefs[i])\n",
    "            else:\n",
    "                new_coefs.append(-other.coefs[i])\n",
    "\n",
    "        return Polynomial(new_coefs)"
   ]
  },
  {
   "cell_type": "code",
   "execution_count": 288,
   "id": "1b8f8b83",
   "metadata": {},
   "outputs": [],
   "source": [
    "fn1 = Polynomial([5, 2, 3])\n",
    "fn2 = Polynomial([2, 3, 1])"
   ]
  },
  {
   "cell_type": "code",
   "execution_count": 289,
   "id": "445bd9f7",
   "metadata": {},
   "outputs": [],
   "source": [
    "fn4 = fn1 - fn2"
   ]
  },
  {
   "cell_type": "code",
   "execution_count": 291,
   "id": "e4451aa6",
   "metadata": {},
   "outputs": [
    {
     "name": "stdout",
     "output_type": "stream",
     "text": [
      "  +3x²+2x¹+5x⁰\n",
      "- +1x²+3x¹+2x⁰\n",
      "--------------\n",
      "= +2x²-1x¹+3x⁰\n"
     ]
    }
   ],
   "source": [
    "print(\" \", fn1)\n",
    "print(\"-\", fn2)\n",
    "print(\"--------------\")\n",
    "print(\"=\", fn4)"
   ]
  },
  {
   "cell_type": "markdown",
   "id": "23d55c3b",
   "metadata": {},
   "source": [
    "OK, can we calculate `f(3)` or `f(-2.5)`?"
   ]
  },
  {
   "cell_type": "code",
   "execution_count": 292,
   "id": "8ad17c99",
   "metadata": {},
   "outputs": [
    {
     "ename": "TypeError",
     "evalue": "'Polynomial' object is not callable",
     "output_type": "error",
     "traceback": [
      "\u001b[0;31m---------------------------------------------------------------------------\u001b[0m",
      "\u001b[0;31mTypeError\u001b[0m                                 Traceback (most recent call last)",
      "\u001b[0;32m/tmp/ipykernel_18286/2887529618.py\u001b[0m in \u001b[0;36m<module>\u001b[0;34m\u001b[0m\n\u001b[0;32m----> 1\u001b[0;31m \u001b[0mfn1\u001b[0m\u001b[0;34m(\u001b[0m\u001b[0;36m3\u001b[0m\u001b[0;34m)\u001b[0m\u001b[0;34m\u001b[0m\u001b[0;34m\u001b[0m\u001b[0m\n\u001b[0m",
      "\u001b[0;31mTypeError\u001b[0m: 'Polynomial' object is not callable"
     ]
    }
   ],
   "source": [
    "fn1(3)"
   ]
  },
  {
   "cell_type": "code",
   "execution_count": 159,
   "id": "115f716b",
   "metadata": {},
   "outputs": [],
   "source": [
    "class Polynomial:\n",
    "    def __init__(self, a, b, c):\n",
    "        self.a = a\n",
    "        self.b = b\n",
    "        self.c = c\n",
    "\n",
    "    def __str__(self):\n",
    "        return f\"{self.a}x² + {self.b}x + {self.c}\"\n",
    "\n",
    "    def __add__(self, other):\n",
    "        new_a = self.a + other.a\n",
    "        new_b = self.b + other.b\n",
    "        new_c = self.c + other.c\n",
    "        return Polynomial(new_a, new_b, new_c)\n",
    "\n",
    "    def __sub__(self, other):\n",
    "        new_a = self.a - other.a\n",
    "        new_b = self.b - other.b\n",
    "        new_c = self.c - other.c\n",
    "        return Polynomial(new_a, new_b, new_c)\n",
    "\n",
    "    def __call__(self, x):\n",
    "        return self.a * (x ** 2) + self.b * x + self.c"
   ]
  },
  {
   "cell_type": "code",
   "execution_count": 160,
   "id": "42cb21ea",
   "metadata": {},
   "outputs": [],
   "source": [
    "fn1 = Polynomial(5, 2, 3)"
   ]
  },
  {
   "cell_type": "code",
   "execution_count": 163,
   "id": "e547fc1b",
   "metadata": {},
   "outputs": [
    {
     "name": "stdout",
     "output_type": "stream",
     "text": [
      "5x² + 2x + 3\n"
     ]
    }
   ],
   "source": [
    "print(fn1)"
   ]
  },
  {
   "cell_type": "code",
   "execution_count": 161,
   "id": "6186b89a",
   "metadata": {},
   "outputs": [
    {
     "data": {
      "text/plain": [
       "54"
      ]
     },
     "execution_count": 161,
     "metadata": {},
     "output_type": "execute_result"
    }
   ],
   "source": [
    "fn1(3)"
   ]
  },
  {
   "cell_type": "code",
   "execution_count": 168,
   "id": "132a97f3",
   "metadata": {},
   "outputs": [],
   "source": [
    "import matplotlib.pyplot as plt"
   ]
  },
  {
   "cell_type": "code",
   "execution_count": 177,
   "id": "d0e5c429",
   "metadata": {},
   "outputs": [],
   "source": [
    "class Polynomial:\n",
    "    def __init__(self, a, b, c):\n",
    "        self.a = a\n",
    "        self.b = b\n",
    "        self.c = c\n",
    "\n",
    "    def __str__(self):\n",
    "        return f\"{self.a}x² + {self.b}x + {self.c}\"\n",
    "\n",
    "    def __add__(self, other):\n",
    "        new_a = self.a + other.a\n",
    "        new_b = self.b + other.b\n",
    "        new_c = self.c + other.c\n",
    "        return Polynomial(new_a, new_b, new_c)\n",
    "\n",
    "    def __sub__(self, other):\n",
    "        new_a = self.a - other.a\n",
    "        new_b = self.b - other.b\n",
    "        new_c = self.c - other.c\n",
    "        return Polynomial(new_a, new_b, new_c)\n",
    "\n",
    "    def __call__(self, x):\n",
    "        return self.a * (x ** 2) + self.b * x + self.c\n",
    "\n",
    "    def plot(self):\n",
    "        x = range(-100, 100)\n",
    "        y = []\n",
    "        for i in x:\n",
    "            y.append(self(i))\n",
    "\n",
    "        plt.plot(x, y)"
   ]
  },
  {
   "cell_type": "code",
   "execution_count": 170,
   "id": "02ef8b32",
   "metadata": {},
   "outputs": [],
   "source": [
    "fn1 = Polynomial(5, 2, 3)"
   ]
  },
  {
   "cell_type": "code",
   "execution_count": 173,
   "id": "a8dcec70",
   "metadata": {},
   "outputs": [
    {
     "name": "stdout",
     "output_type": "stream",
     "text": [
      "5x² + 2x + 3\n"
     ]
    }
   ],
   "source": [
    "print(fn1)"
   ]
  },
  {
   "cell_type": "code",
   "execution_count": 175,
   "id": "17cf23b0",
   "metadata": {},
   "outputs": [
    {
     "data": {
      "image/png": "[encoded data removed]",
      "text/plain": [
       "<Figure size 432x288 with 1 Axes>"
      ]
     },
     "metadata": {
      "needs_background": "light"
     },
     "output_type": "display_data"
    }
   ],
   "source": [
    "fn1.plot()"
   ]
  },
  {
   "cell_type": "code",
   "execution_count": 178,
   "id": "79741d49",
   "metadata": {},
   "outputs": [],
   "source": [
    "class Polynomial:\n",
    "    def __init__(self, a, b, c):\n",
    "        self.a = a\n",
    "        self.b = b\n",
    "        self.c = c\n",
    "\n",
    "    def __str__(self):\n",
    "        return f\"{self.a}x² + {self.b}x + {self.c}\"\n",
    "\n",
    "    def __add__(self, other):\n",
    "        new_a = self.a + other.a\n",
    "        new_b = self.b + other.b\n",
    "        new_c = self.c + other.c\n",
    "        return Polynomial(new_a, new_b, new_c)\n",
    "\n",
    "    def __sub__(self, other):\n",
    "        new_a = self.a - other.a\n",
    "        new_b = self.b - other.b\n",
    "        new_c = self.c - other.c\n",
    "        return Polynomial(new_a, new_b, new_c)\n",
    "\n",
    "    def __call__(self, x):\n",
    "        return self.a * (x ** 2) + self.b * x + self.c\n",
    "\n",
    "    def plot(self):\n",
    "        x = range(-100, 100)\n",
    "        y = []\n",
    "        for i in x:\n",
    "            y.append(self(i))\n",
    "\n",
    "        plt.plot(x, y)\n",
    "\n",
    "    def derivative(self):\n",
    "        return Polynomial(0, 2 * self.a, self.b)"
   ]
  },
  {
   "cell_type": "code",
   "execution_count": 180,
   "id": "6ca1c2de",
   "metadata": {},
   "outputs": [],
   "source": [
    "fn1 = Polynomial(5, 2, 3)"
   ]
  },
  {
   "cell_type": "code",
   "execution_count": 183,
   "id": "a1b46204",
   "metadata": {},
   "outputs": [
    {
     "name": "stdout",
     "output_type": "stream",
     "text": [
      "0x² + 10x + 2\n"
     ]
    }
   ],
   "source": [
    "fn1_prime = fn1.derivative()\n",
    "print(fn1_prime)"
   ]
  },
  {
   "cell_type": "code",
   "execution_count": 184,
   "id": "3e1db461",
   "metadata": {},
   "outputs": [
    {
     "data": {
      "image/png": "[encoded data removed]",
      "text/plain": [
       "<Figure size 432x288 with 1 Axes>"
      ]
     },
     "metadata": {
      "needs_background": "light"
     },
     "output_type": "display_data"
    }
   ],
   "source": [
    "fn1_prime.plot()"
   ]
  }
 ],
 "metadata": {
  "kernelspec": {
   "display_name": "dev1",
   "language": "python",
   "name": "dev1"
  },
  "language_info": {
   "codemirror_mode": {
    "name": "ipython",
    "version": 3
   },
   "file_extension": ".py",
   "mimetype": "text/x-python",
   "name": "python",
   "nbconvert_exporter": "python",
   "pygments_lexer": "ipython3",
   "version": "3.7.11"
  }
 },
 "nbformat": 4,
 "nbformat_minor": 5
}
